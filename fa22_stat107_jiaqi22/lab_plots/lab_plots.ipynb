{
 "cells": [
  {
   "cell_type": "markdown",
   "metadata": {},
   "source": [
    "# Welcome to Lab_Plots! 🕵🏻‍♂️ 📊 🕵🏻‍♀️\n",
    "\n",
    "You may not know this, but the salaries of the employees at the University of Illinois are publicly available! We have curated this data in a nice, structured dataset called `graybook.csv` for you to explore.  The goal of this lab is to work with real UIUC salary data to explore its properties, answer important questions, and to think about the implications of collecting and analyzing this data.  Throughout the lab, it is important to think about being a critical consumer of data who can not only use statistics and programming to analyze data but can also think about the \"why\" part of data science both in the classroom and in the world. Let’s get started!\n",
    "\n",
    "In this lab, you will:\n",
    "- Work with real UIUC salary data to explore some of the statistics that we talked about in lecture: mean, median, standard deviation, etc.\n",
    "- Practice creating plots to **visualize quantitative data**: boxplots and histograms.\n",
    "- See how data science can be used in the real world to think about important issues through individual reflection and discussions with your group.\n"
   ]
  },
  {
   "cell_type": "markdown",
   "metadata": {},
   "source": [
    "## Your Group\n",
    "\n",
    "Edit the next Python cell to add information about who you're working within your lab section:"
   ]
  },
  {
   "cell_type": "code",
   "execution_count": 20,
   "metadata": {},
   "outputs": [],
   "source": [
    "# Meet your CAs and TA if you haven't already!\n",
    "# ...first name is enough, we'll know who they are! :)\n",
    "ta_name = \"Tianyi\"\n",
    "ca1_name = \"Jerry\"\n",
    "ca2_name = \"Vikram\"\n",
    "\n",
    "\n",
    "# Say hello to each other!\n",
    "# - Groups of 3 are ideal :)\n",
    "# - However, groups of 2 or 4 are fine too!\n",
    "#\n",
    "# QOTD to Ask Your Group: \"Taylor Swift or Harry Styles?\"\n",
    "partner1_name = \"Jiaqi He\"\n",
    "partner1_netid = \"jiaqi22\"\n",
    "partner1_swift_or_styles = \"Taylor Swift\"\n",
    "\n",
    "partner2_name = \"Charlotte\"\n",
    "partner2_netid = \"cs112\"\n",
    "partner2_swift_or_styles = \"Taylor Swift\"\n",
    "\n",
    "partner3_name = \"\"\n",
    "partner3_netid = \"\"\n",
    "partner3_swift_or_styles = \"\""
   ]
  },
  {
   "cell_type": "markdown",
   "metadata": {},
   "source": [
    "<hr style=\"color: #DD3403;\">"
   ]
  },
  {
   "cell_type": "markdown",
   "metadata": {},
   "source": [
    "## Setup: Import the Graybook Dataset\n",
    "\n",
    "The \"Gray Book\" is historical term for the book of \"Academic and Administrative Appointments\".  As a public University, all academic positions (including academic title, tenure status, and salary) are publicly approved by the Board of Trustees.  After approval, they are published publicly at [https://www.bot.uillinois.edu/resources/gray_book](https://www.bot.uillinois.edu/resources/gray_book).\n",
    "\n",
    "We have parsed the HTML tables and did data cleaning.  The \"Graybook Dataset\" provided here includes all faculty at The University of Illinois, based on the Sept. 2021 Graybook report.  A CSV version of this dataset is available at the following URL:\n",
    "\n",
    "```\n",
    "https://waf.cs.illinois.edu/discovery/graybook.csv\n",
    "```\n",
    "\n",
    "You know what to do to import the libraries and read in the data! 😃"
   ]
  },
  {
   "cell_type": "code",
   "execution_count": null,
   "metadata": {
    "deletable": false,
    "nbgrader": {
     "cell_type": "code",
     "checksum": "40a9b55a4721908243d995f8d7f2fbb7",
     "grade": false,
     "grade_id": "cell-27971beecac131cc",
     "locked": false,
     "schema_version": 3,
     "solution": true,
     "task": false
    }
   },
   "outputs": [
    {
     "data": {
      "text/html": [
       "<div>\n",
       "<style scoped>\n",
       "    .dataframe tbody tr th:only-of-type {\n",
       "        vertical-align: middle;\n",
       "    }\n",
       "\n",
       "    .dataframe tbody tr th {\n",
       "        vertical-align: top;\n",
       "    }\n",
       "\n",
       "    .dataframe thead th {\n",
       "        text-align: right;\n",
       "    }\n",
       "</style>\n",
       "<table border=\"1\" class=\"dataframe\">\n",
       "  <thead>\n",
       "    <tr style=\"text-align: right;\">\n",
       "      <th></th>\n",
       "      <th>Employee Name</th>\n",
       "      <th>Job Title</th>\n",
       "      <th>Tenure</th>\n",
       "      <th>Empl Class</th>\n",
       "      <th>Present FTE</th>\n",
       "      <th>Proposed FTE</th>\n",
       "      <th>Present Salary</th>\n",
       "      <th>Proposed Salary</th>\n",
       "      <th>College Code</th>\n",
       "      <th>College Name</th>\n",
       "      <th>Department Code</th>\n",
       "      <th>Department Name</th>\n",
       "      <th>Job Titles</th>\n",
       "      <th>Empl Classes</th>\n",
       "      <th>College Names</th>\n",
       "      <th>Department Names</th>\n",
       "    </tr>\n",
       "  </thead>\n",
       "  <tbody>\n",
       "    <tr>\n",
       "      <th>0</th>\n",
       "      <td>Winter-Nelson, Alex E</td>\n",
       "      <td>PROF</td>\n",
       "      <td>A</td>\n",
       "      <td>AA</td>\n",
       "      <td>1.0</td>\n",
       "      <td>1.0</td>\n",
       "      <td>198300.00</td>\n",
       "      <td>201666.00</td>\n",
       "      <td>KL</td>\n",
       "      <td>Agr, Consumer, &amp; Env Sciences</td>\n",
       "      <td>470</td>\n",
       "      <td>Agr &amp; Consumer Economics</td>\n",
       "      <td>['DIR, ADMI' 'PROF' 'ASSOC DEAN FOR INATL PRGMS']</td>\n",
       "      <td>['BA' 'AA']</td>\n",
       "      <td>['Agr, Consumer, &amp; Env Sciences']</td>\n",
       "      <td>['ADM Institute for PHL' 'Agr &amp; Consumer Econo...</td>\n",
       "    </tr>\n",
       "    <tr>\n",
       "      <th>1</th>\n",
       "      <td>Chunoo, Vivechkanand Sewcharran</td>\n",
       "      <td>ASST PROF</td>\n",
       "      <td>NaN</td>\n",
       "      <td>AA</td>\n",
       "      <td>1.0</td>\n",
       "      <td>1.0</td>\n",
       "      <td>76500.00</td>\n",
       "      <td>78030.00</td>\n",
       "      <td>KL</td>\n",
       "      <td>Agr, Consumer, &amp; Env Sciences</td>\n",
       "      <td>342</td>\n",
       "      <td>Ag Ldrshp Educ Comm Program</td>\n",
       "      <td>['ASST PROF']</td>\n",
       "      <td>['AA']</td>\n",
       "      <td>['Agr, Consumer, &amp; Env Sciences']</td>\n",
       "      <td>['Ag Ldrshp Educ Comm Program' 'Human Dvlpmt &amp;...</td>\n",
       "    </tr>\n",
       "    <tr>\n",
       "      <th>2</th>\n",
       "      <td>Collins, Jasmine Danielle</td>\n",
       "      <td>ASST PROF</td>\n",
       "      <td>NaN</td>\n",
       "      <td>AA</td>\n",
       "      <td>1.0</td>\n",
       "      <td>1.0</td>\n",
       "      <td>78030.00</td>\n",
       "      <td>79590.60</td>\n",
       "      <td>KL</td>\n",
       "      <td>Agr, Consumer, &amp; Env Sciences</td>\n",
       "      <td>342</td>\n",
       "      <td>Ag Ldrshp Educ Comm Program</td>\n",
       "      <td>['ASST PROF']</td>\n",
       "      <td>['AA']</td>\n",
       "      <td>['Agr, Consumer, &amp; Env Sciences']</td>\n",
       "      <td>['Ag Ldrshp Educ Comm Program' 'Human Dvlpmt &amp;...</td>\n",
       "    </tr>\n",
       "    <tr>\n",
       "      <th>3</th>\n",
       "      <td>Korte, Debra Sue</td>\n",
       "      <td>TCH ASSOC PROF</td>\n",
       "      <td>M</td>\n",
       "      <td>AA</td>\n",
       "      <td>1.0</td>\n",
       "      <td>1.0</td>\n",
       "      <td>90000.00</td>\n",
       "      <td>92250.00</td>\n",
       "      <td>KL</td>\n",
       "      <td>Agr, Consumer, &amp; Env Sciences</td>\n",
       "      <td>342</td>\n",
       "      <td>Ag Ldrshp Educ Comm Program</td>\n",
       "      <td>['TCH ASSOC PROF' 'DIR LRNG INNOVATION &amp; E-LRNG']</td>\n",
       "      <td>['AA' 'BC']</td>\n",
       "      <td>['Agr, Consumer, &amp; Env Sciences']</td>\n",
       "      <td>['Ag Ldrshp Educ Comm Program' 'Agr, Consumer,...</td>\n",
       "    </tr>\n",
       "    <tr>\n",
       "      <th>4</th>\n",
       "      <td>Leman, Amy Marie</td>\n",
       "      <td>ASST PROF</td>\n",
       "      <td>NaN</td>\n",
       "      <td>AA</td>\n",
       "      <td>1.0</td>\n",
       "      <td>1.0</td>\n",
       "      <td>78000.00</td>\n",
       "      <td>79716.00</td>\n",
       "      <td>KL</td>\n",
       "      <td>Agr, Consumer, &amp; Env Sciences</td>\n",
       "      <td>342</td>\n",
       "      <td>Ag Ldrshp Educ Comm Program</td>\n",
       "      <td>['ASST PROF']</td>\n",
       "      <td>['AA']</td>\n",
       "      <td>['Agr, Consumer, &amp; Env Sciences']</td>\n",
       "      <td>['Ag Ldrshp Educ Comm Program' 'Human Dvlpmt &amp;...</td>\n",
       "    </tr>\n",
       "    <tr>\n",
       "      <th>...</th>\n",
       "      <td>...</td>\n",
       "      <td>...</td>\n",
       "      <td>...</td>\n",
       "      <td>...</td>\n",
       "      <td>...</td>\n",
       "      <td>...</td>\n",
       "      <td>...</td>\n",
       "      <td>...</td>\n",
       "      <td>...</td>\n",
       "      <td>...</td>\n",
       "      <td>...</td>\n",
       "      <td>...</td>\n",
       "      <td>...</td>\n",
       "      <td>...</td>\n",
       "      <td>...</td>\n",
       "      <td>...</td>\n",
       "    </tr>\n",
       "    <tr>\n",
       "      <th>3039</th>\n",
       "      <td>Welle, Kenneth R</td>\n",
       "      <td>CLIN ASSOC PROF</td>\n",
       "      <td>NaN</td>\n",
       "      <td>AL</td>\n",
       "      <td>1.0</td>\n",
       "      <td>1.0</td>\n",
       "      <td>128784.01</td>\n",
       "      <td>139360.00</td>\n",
       "      <td>LC</td>\n",
       "      <td>Veterinary Medicine</td>\n",
       "      <td>598</td>\n",
       "      <td>Vet Clinical Medicine</td>\n",
       "      <td>['CLIN ASSOC PROF']</td>\n",
       "      <td>['AL']</td>\n",
       "      <td>['Veterinary Medicine']</td>\n",
       "      <td>['Vet Clinical Medicine']</td>\n",
       "    </tr>\n",
       "    <tr>\n",
       "      <th>3040</th>\n",
       "      <td>Whittington, Julia K</td>\n",
       "      <td>CLIN PROF</td>\n",
       "      <td>NaN</td>\n",
       "      <td>AL</td>\n",
       "      <td>1.0</td>\n",
       "      <td>1.0</td>\n",
       "      <td>188056.00</td>\n",
       "      <td>191617.12</td>\n",
       "      <td>LC</td>\n",
       "      <td>Veterinary Medicine</td>\n",
       "      <td>598</td>\n",
       "      <td>Vet Clinical Medicine</td>\n",
       "      <td>['CLIN PROF' 'AST DEAN CLIN SERV, DIR VTH']</td>\n",
       "      <td>['AL' 'BA']</td>\n",
       "      <td>['Veterinary Medicine']</td>\n",
       "      <td>['Vet Clinical Medicine' 'Veterinary Teaching ...</td>\n",
       "    </tr>\n",
       "    <tr>\n",
       "      <th>3041</th>\n",
       "      <td>Wilkins, Pamela A</td>\n",
       "      <td>PROF</td>\n",
       "      <td>A</td>\n",
       "      <td>AL</td>\n",
       "      <td>1.0</td>\n",
       "      <td>1.0</td>\n",
       "      <td>166560.65</td>\n",
       "      <td>169891.86</td>\n",
       "      <td>LC</td>\n",
       "      <td>Veterinary Medicine</td>\n",
       "      <td>598</td>\n",
       "      <td>Vet Clinical Medicine</td>\n",
       "      <td>['PROF']</td>\n",
       "      <td>['AL']</td>\n",
       "      <td>['Veterinary Medicine']</td>\n",
       "      <td>['Vet Clinical Medicine' 'Veterinary Teaching ...</td>\n",
       "    </tr>\n",
       "    <tr>\n",
       "      <th>3042</th>\n",
       "      <td>Reznicek, Eryn Marie</td>\n",
       "      <td>INSTRUCTOR</td>\n",
       "      <td>NaN</td>\n",
       "      <td>AL</td>\n",
       "      <td>1.0</td>\n",
       "      <td>1.0</td>\n",
       "      <td>93000.00</td>\n",
       "      <td>93000.00</td>\n",
       "      <td>LC</td>\n",
       "      <td>Veterinary Medicine</td>\n",
       "      <td>255</td>\n",
       "      <td>Veterinary Teaching Hospital</td>\n",
       "      <td>['INSTRUCTOR']</td>\n",
       "      <td>['AL']</td>\n",
       "      <td>['Veterinary Medicine']</td>\n",
       "      <td>['Veterinary Teaching Hospital']</td>\n",
       "    </tr>\n",
       "    <tr>\n",
       "      <th>3043</th>\n",
       "      <td>Ribeiro de Oliveira, Cintia</td>\n",
       "      <td>INSTR OF TELERADIOLOGY</td>\n",
       "      <td>NaN</td>\n",
       "      <td>AL</td>\n",
       "      <td>1.0</td>\n",
       "      <td>1.0</td>\n",
       "      <td>204125.55</td>\n",
       "      <td>206166.81</td>\n",
       "      <td>LC</td>\n",
       "      <td>Veterinary Medicine</td>\n",
       "      <td>255</td>\n",
       "      <td>Veterinary Teaching Hospital</td>\n",
       "      <td>['INSTR OF TELERADIOLOGY']</td>\n",
       "      <td>['AL']</td>\n",
       "      <td>['Veterinary Medicine']</td>\n",
       "      <td>['Veterinary Teaching Hospital']</td>\n",
       "    </tr>\n",
       "  </tbody>\n",
       "</table>\n",
       "<p>3044 rows × 16 columns</p>\n",
       "</div>"
      ],
      "text/plain": [
       "                        Employee Name               Job Title Tenure  \\\n",
       "0               Winter-Nelson, Alex E                    PROF      A   \n",
       "1     Chunoo, Vivechkanand Sewcharran               ASST PROF    NaN   \n",
       "2           Collins, Jasmine Danielle               ASST PROF    NaN   \n",
       "3                    Korte, Debra Sue          TCH ASSOC PROF      M   \n",
       "4                    Leman, Amy Marie               ASST PROF    NaN   \n",
       "...                               ...                     ...    ...   \n",
       "3039                 Welle, Kenneth R         CLIN ASSOC PROF    NaN   \n",
       "3040             Whittington, Julia K               CLIN PROF    NaN   \n",
       "3041                Wilkins, Pamela A                    PROF      A   \n",
       "3042             Reznicek, Eryn Marie              INSTRUCTOR    NaN   \n",
       "3043      Ribeiro de Oliveira, Cintia  INSTR OF TELERADIOLOGY    NaN   \n",
       "\n",
       "     Empl Class  Present FTE  Proposed FTE  Present Salary  Proposed Salary  \\\n",
       "0            AA          1.0           1.0       198300.00        201666.00   \n",
       "1            AA          1.0           1.0        76500.00         78030.00   \n",
       "2            AA          1.0           1.0        78030.00         79590.60   \n",
       "3            AA          1.0           1.0        90000.00         92250.00   \n",
       "4            AA          1.0           1.0        78000.00         79716.00   \n",
       "...         ...          ...           ...             ...              ...   \n",
       "3039         AL          1.0           1.0       128784.01        139360.00   \n",
       "3040         AL          1.0           1.0       188056.00        191617.12   \n",
       "3041         AL          1.0           1.0       166560.65        169891.86   \n",
       "3042         AL          1.0           1.0        93000.00         93000.00   \n",
       "3043         AL          1.0           1.0       204125.55        206166.81   \n",
       "\n",
       "     College Code                   College Name  Department Code  \\\n",
       "0              KL  Agr, Consumer, & Env Sciences              470   \n",
       "1              KL  Agr, Consumer, & Env Sciences              342   \n",
       "2              KL  Agr, Consumer, & Env Sciences              342   \n",
       "3              KL  Agr, Consumer, & Env Sciences              342   \n",
       "4              KL  Agr, Consumer, & Env Sciences              342   \n",
       "...           ...                            ...              ...   \n",
       "3039           LC            Veterinary Medicine              598   \n",
       "3040           LC            Veterinary Medicine              598   \n",
       "3041           LC            Veterinary Medicine              598   \n",
       "3042           LC            Veterinary Medicine              255   \n",
       "3043           LC            Veterinary Medicine              255   \n",
       "\n",
       "                   Department Name  \\\n",
       "0         Agr & Consumer Economics   \n",
       "1      Ag Ldrshp Educ Comm Program   \n",
       "2      Ag Ldrshp Educ Comm Program   \n",
       "3      Ag Ldrshp Educ Comm Program   \n",
       "4      Ag Ldrshp Educ Comm Program   \n",
       "...                            ...   \n",
       "3039         Vet Clinical Medicine   \n",
       "3040         Vet Clinical Medicine   \n",
       "3041         Vet Clinical Medicine   \n",
       "3042  Veterinary Teaching Hospital   \n",
       "3043  Veterinary Teaching Hospital   \n",
       "\n",
       "                                             Job Titles Empl Classes  \\\n",
       "0     ['DIR, ADMI' 'PROF' 'ASSOC DEAN FOR INATL PRGMS']  ['BA' 'AA']   \n",
       "1                                         ['ASST PROF']       ['AA']   \n",
       "2                                         ['ASST PROF']       ['AA']   \n",
       "3     ['TCH ASSOC PROF' 'DIR LRNG INNOVATION & E-LRNG']  ['AA' 'BC']   \n",
       "4                                         ['ASST PROF']       ['AA']   \n",
       "...                                                 ...          ...   \n",
       "3039                                ['CLIN ASSOC PROF']       ['AL']   \n",
       "3040        ['CLIN PROF' 'AST DEAN CLIN SERV, DIR VTH']  ['AL' 'BA']   \n",
       "3041                                           ['PROF']       ['AL']   \n",
       "3042                                     ['INSTRUCTOR']       ['AL']   \n",
       "3043                         ['INSTR OF TELERADIOLOGY']       ['AL']   \n",
       "\n",
       "                          College Names  \\\n",
       "0     ['Agr, Consumer, & Env Sciences']   \n",
       "1     ['Agr, Consumer, & Env Sciences']   \n",
       "2     ['Agr, Consumer, & Env Sciences']   \n",
       "3     ['Agr, Consumer, & Env Sciences']   \n",
       "4     ['Agr, Consumer, & Env Sciences']   \n",
       "...                                 ...   \n",
       "3039            ['Veterinary Medicine']   \n",
       "3040            ['Veterinary Medicine']   \n",
       "3041            ['Veterinary Medicine']   \n",
       "3042            ['Veterinary Medicine']   \n",
       "3043            ['Veterinary Medicine']   \n",
       "\n",
       "                                       Department Names  \n",
       "0     ['ADM Institute for PHL' 'Agr & Consumer Econo...  \n",
       "1     ['Ag Ldrshp Educ Comm Program' 'Human Dvlpmt &...  \n",
       "2     ['Ag Ldrshp Educ Comm Program' 'Human Dvlpmt &...  \n",
       "3     ['Ag Ldrshp Educ Comm Program' 'Agr, Consumer,...  \n",
       "4     ['Ag Ldrshp Educ Comm Program' 'Human Dvlpmt &...  \n",
       "...                                                 ...  \n",
       "3039                          ['Vet Clinical Medicine']  \n",
       "3040  ['Vet Clinical Medicine' 'Veterinary Teaching ...  \n",
       "3041  ['Vet Clinical Medicine' 'Veterinary Teaching ...  \n",
       "3042                   ['Veterinary Teaching Hospital']  \n",
       "3043                   ['Veterinary Teaching Hospital']  \n",
       "\n",
       "[3044 rows x 16 columns]"
      ]
     },
     "execution_count": 1,
     "metadata": {},
     "output_type": "execute_result"
    }
   ],
   "source": [
    "# Import the graybook dataset below:\n",
    "import pandas as pd\n",
    "df=pd.read_csv(\"https://waf.cs.illinois.edu/discovery/graybook.csv\")\n",
    "df"
   ]
  },
  {
   "cell_type": "markdown",
   "metadata": {},
   "source": [
    "<hr style=\"color: #DD3403;\">"
   ]
  },
  {
   "cell_type": "markdown",
   "metadata": {},
   "source": [
    "## Part 1. Exploratory Data Analysis (EDA)\n",
    "\n",
    "As we discussed in lecture, the first step of any data analysis is to get familiar with your dataset.  Think about what this data can tell you and what variables are included.  Data scientists always start with this step.\n",
    "\n",
    "Let’s do some overall exploratory data analysis to get some baseline data to compare to.  Before you do the calculations, guess what you think the average salary of ALL faculty is at UIUC. Enter your answer below.  "
   ]
  },
  {
   "cell_type": "markdown",
   "metadata": {},
   "source": [
    "**Guess for Overall Average Salary of UIUC Faculty**: ...✍🏼...12,000"
   ]
  },
  {
   "cell_type": "markdown",
   "metadata": {},
   "source": [
    "## Puzzle 1.1: Descriptive Statistics\n",
    "\n",
    "Next, using all of the data, find the following information:\n",
    "\n",
    "1. the number of faculty at UIUC\n",
    "2. the mean present salary\n",
    "3. the median present salary\n",
    "4. the standard deviation for present salary"
   ]
  },
  {
   "cell_type": "code",
   "execution_count": null,
   "metadata": {
    "deletable": false,
    "nbgrader": {
     "cell_type": "code",
     "checksum": "b1bea43f79c33b854e1f15dfe00b180b",
     "grade": false,
     "grade_id": "cell-419796a0b415e588",
     "locked": false,
     "schema_version": 3,
     "solution": true,
     "task": false
    }
   },
   "outputs": [
    {
     "data": {
      "text/plain": [
       "3044"
      ]
     },
     "execution_count": 12,
     "metadata": {},
     "output_type": "execute_result"
    }
   ],
   "source": [
    "university_num_emp = df[\"Employee Name\"].agg(\"count\")\n",
    "university_num_emp"
   ]
  },
  {
   "cell_type": "code",
   "execution_count": null,
   "metadata": {
    "deletable": false,
    "nbgrader": {
     "cell_type": "code",
     "checksum": "f86aac497feb3ecd4289626231b44964",
     "grade": false,
     "grade_id": "cell-4dbbeef1022a20e4",
     "locked": false,
     "schema_version": 3,
     "solution": true,
     "task": false
    }
   },
   "outputs": [
    {
     "data": {
      "text/plain": [
       "108741.28700394218"
      ]
     },
     "execution_count": 8,
     "metadata": {},
     "output_type": "execute_result"
    }
   ],
   "source": [
    "university_mean_sal = df[\"Present Salary\"].mean()\n",
    "university_mean_sal"
   ]
  },
  {
   "cell_type": "code",
   "execution_count": null,
   "metadata": {
    "deletable": false,
    "nbgrader": {
     "cell_type": "code",
     "checksum": "e8f355f508ffadd1f9b645c9686c73ea",
     "grade": false,
     "grade_id": "cell-727195c3fef2cf78",
     "locked": false,
     "schema_version": 3,
     "solution": true,
     "task": false
    }
   },
   "outputs": [
    {
     "data": {
      "text/plain": [
       "108741.28700394218"
      ]
     },
     "execution_count": 10,
     "metadata": {},
     "output_type": "execute_result"
    }
   ],
   "source": [
    "university_median_sal = df[\"Present Salary\"].median()\n",
    "university_mean_sal"
   ]
  },
  {
   "cell_type": "code",
   "execution_count": null,
   "metadata": {
    "deletable": false,
    "nbgrader": {
     "cell_type": "code",
     "checksum": "3da9719c35e35c72a09a1068d100b0f1",
     "grade": false,
     "grade_id": "cell-35e651d14a628e50",
     "locked": false,
     "schema_version": 3,
     "solution": true,
     "task": false
    }
   },
   "outputs": [
    {
     "data": {
      "text/plain": [
       "68763.04546859075"
      ]
     },
     "execution_count": 11,
     "metadata": {},
     "output_type": "execute_result"
    }
   ],
   "source": [
    "university_std_sal = df[\"Present Salary\"].std()\n",
    "university_std_sal"
   ]
  },
  {
   "cell_type": "markdown",
   "metadata": {},
   "source": [
    "### 🔬 Test Case Checkpoint 🔬"
   ]
  },
  {
   "cell_type": "code",
   "execution_count": null,
   "metadata": {
    "deletable": false,
    "editable": false,
    "nbgrader": {
     "cell_type": "code",
     "checksum": "56f09ea04974ac5c89f390a8825daa39",
     "grade": true,
     "grade_id": "cell-04e624817d681f8e",
     "locked": true,
     "points": 1,
     "schema_version": 3,
     "solution": false,
     "task": false
    }
   },
   "outputs": [
    {
     "name": "stdout",
     "output_type": "stream",
     "text": [
      "🎉 All tests passed! 🎉\n"
     ]
    }
   ],
   "source": [
    "## == TEST CASES for Puzzle 1.1 ==\n",
    "# - This read-only cell contains test cases for your previous cell.\n",
    "# - If this cell runs with a message (with the emoji showing), you PASSED all test cases!\n",
    "# - If this cell results in any errors, check your previous cell, make changes, and RE-RUN your code and then this cell.\n",
    "x = university_num_emp + university_mean_sal + university_median_sal + university_std_sal\n",
    "y = ((university_mean_sal - university_median_sal) * university_std_sal) / university_num_emp\n",
    "\n",
    "assert( abs(x - 281282.487472532) < 0.01 ), \"Hmm...It looks like your calculations are off?\"\n",
    "assert( abs(y - 180878.70632722884) < 0.01 ), \"Hmm...It looks like your calculations are off?\"\n",
    "\n",
    "## == SUCCESS MESSAGE ==\n",
    "# You will only see this message (with the emoji showing) if you passed all test cases:\n",
    "tada = \"\\N{PARTY POPPER}\"\n",
    "print(f\"{tada} All tests passed! {tada}\")"
   ]
  },
  {
   "cell_type": "markdown",
   "metadata": {},
   "source": [
    "### Visual Displays of Data -- A Key Part of EDA!\n",
    "\n",
    "Now, we are a bit more familiar with the dataset and some summary statistics. Looking at overall descriptive statistics helps us summarize all of the observations in a column, rather than having to scroll through all of the observations!  However, descriptive statistics alone often don’t tell the whole story. This is where having tools for visualizing statistics comes in handy.\n",
    "\n",
    "## Puzzle 1.2: Histograms\n",
    "\n",
    "Let’s start by looking at one of the most simple, yet powerful visual displays of data, a histogram.  Histograms are used to show the overall shape of the data and they allow us to see frequencies.  Create a frequency histogram of the present salaries at UIUC.\n"
   ]
  },
  {
   "cell_type": "code",
   "execution_count": 22,
   "metadata": {},
   "outputs": [
    {
     "data": {
      "text/plain": [
       "<AxesSubplot: ylabel='Frequency'>"
      ]
     },
     "execution_count": 22,
     "metadata": {},
     "output_type": "execute_result"
    },
    {
     "data": {
      "image/png": "[encoded data removed]",
      "text/plain": [
       "<Figure size 640x480 with 1 Axes>"
      ]
     },
     "metadata": {},
     "output_type": "display_data"
    }
   ],
   "source": [
    "# Create your histogram here:\n",
    "\n",
    "\n",
    "df.plot.hist(column = [\"Present Salary\"])"
   ]
  },
  {
   "cell_type": "markdown",
   "metadata": {},
   "source": [
    "## Puzzle 1.3: Boxplots\n",
    "\n",
    "Next, let’s look at another simple, yet power visualization: a boxplot! Create a boxplot of the overall salary data at UIUC. "
   ]
  },
  {
   "cell_type": "code",
   "execution_count": 25,
   "metadata": {},
   "outputs": [
    {
     "data": {
      "text/plain": [
       "<AxesSubplot: >"
      ]
     },
     "execution_count": 25,
     "metadata": {},
     "output_type": "execute_result"
    },
    {
     "data": {
      "image/png": "[encoded data removed]",
      "text/plain": [
       "<Figure size 640x480 with 1 Axes>"
      ]
     },
     "metadata": {},
     "output_type": "display_data"
    }
   ],
   "source": [
    "# Create your boxplot here:\n",
    "df[\"Present Salary\"].plot.box()"
   ]
  },
  {
   "cell_type": "markdown",
   "metadata": {},
   "source": [
    "**❓Group Discussion ❓**\n",
    "\n",
    "Discuss with your group whether you think a histogram or a boxplot or both best visualize the salary data.  There is no right answer to this question.  Explain why histograms, boxplots, or both are important and what they can tell us about the data.  "
   ]
  },
  {
   "cell_type": "markdown",
   "metadata": {},
   "source": [
    "**❓Individual Reflection ❓**\n",
    "Why is it valuable to look at visual displays of salary data in general (as opposed to just looking at descriptive statistics like the mean and SD)? Write at least three complete sentences."
   ]
  },
  {
   "cell_type": "markdown",
   "metadata": {},
   "source": [
    "**Your Response:**  Looking at visual display enables us to discover outliers(which is the really high salary or really low salary) of the overall UIUC faculties. Box plot is better at visualizing the salary data. It shows the outliers of high salaries. However, the histogram cannot show if there are some people with really high salary because these people cannot be shown at the unit height of the histogram is 200 people."
   ]
  },
  {
   "cell_type": "markdown",
   "metadata": {},
   "source": [
    "<hr style=\"color: #DD3403;\">"
   ]
  },
  {
   "cell_type": "markdown",
   "metadata": {},
   "source": [
    "## Part 2. Department-Level Data\n",
    "\n",
    "One of the interesting properties of the salary dataset is that you can see what department each professor is from and look at the same data at a department level.  In other words, you can calculate descriptive statistics and look at visual displays of data for each department.  Let’s explore whether or not there are salary discrepancies among a few departments.\n",
    "\n",
    "## Puzzle 2.1\n",
    "\n",
    "There was a certain function you learned that will help you **group** all of the people in each department so you can find departmental aggregates.  In other words, you want to group by `'Department Name'`.\n",
    "\n",
    "Next, instead of just grouping salary by a single aggregate, use **Python list syntax** to aggregate by `count`, `mean`, and `median` to find the mean and median salary, as well as the count for how many people are in each department.\n",
    "\n",
    "To make things easier to read, modify your DataFrame to include only the `Department Name` and `Present Salary` fields before you groupby.  Remember, when you use `agg`, provide a list of `count`, `mean`, and `median` to aggregate on all three statistics simultaneously instead of just one like what we've done so far!"
   ]
  },
  {
   "cell_type": "code",
   "execution_count": 45,
   "metadata": {},
   "outputs": [
    {
     "data": {
      "text/html": [
       "<div>\n",
       "<style scoped>\n",
       "    .dataframe tbody tr th:only-of-type {\n",
       "        vertical-align: middle;\n",
       "    }\n",
       "\n",
       "    .dataframe tbody tr th {\n",
       "        vertical-align: top;\n",
       "    }\n",
       "\n",
       "    .dataframe thead th {\n",
       "        text-align: right;\n",
       "    }\n",
       "</style>\n",
       "<table border=\"1\" class=\"dataframe\">\n",
       "  <thead>\n",
       "    <tr style=\"text-align: right;\">\n",
       "      <th></th>\n",
       "      <th>Department Name</th>\n",
       "      <th>Present Salary</th>\n",
       "    </tr>\n",
       "  </thead>\n",
       "  <tbody>\n",
       "    <tr>\n",
       "      <th>0</th>\n",
       "      <td>Agr &amp; Consumer Economics</td>\n",
       "      <td>198300.00</td>\n",
       "    </tr>\n",
       "    <tr>\n",
       "      <th>1</th>\n",
       "      <td>Ag Ldrshp Educ Comm Program</td>\n",
       "      <td>76500.00</td>\n",
       "    </tr>\n",
       "    <tr>\n",
       "      <th>2</th>\n",
       "      <td>Ag Ldrshp Educ Comm Program</td>\n",
       "      <td>78030.00</td>\n",
       "    </tr>\n",
       "    <tr>\n",
       "      <th>3</th>\n",
       "      <td>Ag Ldrshp Educ Comm Program</td>\n",
       "      <td>90000.00</td>\n",
       "    </tr>\n",
       "    <tr>\n",
       "      <th>4</th>\n",
       "      <td>Ag Ldrshp Educ Comm Program</td>\n",
       "      <td>78000.00</td>\n",
       "    </tr>\n",
       "    <tr>\n",
       "      <th>...</th>\n",
       "      <td>...</td>\n",
       "      <td>...</td>\n",
       "    </tr>\n",
       "    <tr>\n",
       "      <th>3039</th>\n",
       "      <td>Vet Clinical Medicine</td>\n",
       "      <td>128784.01</td>\n",
       "    </tr>\n",
       "    <tr>\n",
       "      <th>3040</th>\n",
       "      <td>Vet Clinical Medicine</td>\n",
       "      <td>188056.00</td>\n",
       "    </tr>\n",
       "    <tr>\n",
       "      <th>3041</th>\n",
       "      <td>Vet Clinical Medicine</td>\n",
       "      <td>166560.65</td>\n",
       "    </tr>\n",
       "    <tr>\n",
       "      <th>3042</th>\n",
       "      <td>Veterinary Teaching Hospital</td>\n",
       "      <td>93000.00</td>\n",
       "    </tr>\n",
       "    <tr>\n",
       "      <th>3043</th>\n",
       "      <td>Veterinary Teaching Hospital</td>\n",
       "      <td>204125.55</td>\n",
       "    </tr>\n",
       "  </tbody>\n",
       "</table>\n",
       "<p>3044 rows × 2 columns</p>\n",
       "</div>"
      ],
      "text/plain": [
       "                   Department Name  Present Salary\n",
       "0         Agr & Consumer Economics       198300.00\n",
       "1      Ag Ldrshp Educ Comm Program        76500.00\n",
       "2      Ag Ldrshp Educ Comm Program        78030.00\n",
       "3      Ag Ldrshp Educ Comm Program        90000.00\n",
       "4      Ag Ldrshp Educ Comm Program        78000.00\n",
       "...                            ...             ...\n",
       "3039         Vet Clinical Medicine       128784.01\n",
       "3040         Vet Clinical Medicine       188056.00\n",
       "3041         Vet Clinical Medicine       166560.65\n",
       "3042  Veterinary Teaching Hospital        93000.00\n",
       "3043  Veterinary Teaching Hospital       204125.55\n",
       "\n",
       "[3044 rows x 2 columns]"
      ]
     },
     "execution_count": 45,
     "metadata": {},
     "output_type": "execute_result"
    }
   ],
   "source": [
    "# Create a second DataFrame containing only \"Department Name\" and \"Present Salary\":\n",
    "df2 = df[['Department Name', 'Present Salary']]\n",
    "df2\n"
   ]
  },
  {
   "cell_type": "code",
   "execution_count": 61,
   "metadata": {
    "deletable": false,
    "nbgrader": {
     "cell_type": "code",
     "checksum": "912abaecdf749394d0921e160cd15746",
     "grade": false,
     "grade_id": "cell-72189b308296916b",
     "locked": false,
     "schema_version": 3,
     "solution": true,
     "task": false
    }
   },
   "outputs": [
    {
     "data": {
      "text/html": [
       "<div>\n",
       "<style scoped>\n",
       "    .dataframe tbody tr th:only-of-type {\n",
       "        vertical-align: middle;\n",
       "    }\n",
       "\n",
       "    .dataframe tbody tr th {\n",
       "        vertical-align: top;\n",
       "    }\n",
       "\n",
       "    .dataframe thead tr th {\n",
       "        text-align: left;\n",
       "    }\n",
       "</style>\n",
       "<table border=\"1\" class=\"dataframe\">\n",
       "  <thead>\n",
       "    <tr>\n",
       "      <th></th>\n",
       "      <th>Department Name</th>\n",
       "      <th colspan=\"3\" halign=\"left\">Present Salary</th>\n",
       "    </tr>\n",
       "    <tr>\n",
       "      <th></th>\n",
       "      <th></th>\n",
       "      <th>count</th>\n",
       "      <th>mean</th>\n",
       "      <th>median</th>\n",
       "    </tr>\n",
       "  </thead>\n",
       "  <tbody>\n",
       "    <tr>\n",
       "      <th>0</th>\n",
       "      <td>ACES Info Tech &amp; Cmc Svcs</td>\n",
       "      <td>323</td>\n",
       "      <td>14622.116192</td>\n",
       "      <td>0.000</td>\n",
       "    </tr>\n",
       "    <tr>\n",
       "      <th>1</th>\n",
       "      <td>Accountancy</td>\n",
       "      <td>62</td>\n",
       "      <td>208067.641290</td>\n",
       "      <td>223686.000</td>\n",
       "    </tr>\n",
       "    <tr>\n",
       "      <th>2</th>\n",
       "      <td>Action Learning</td>\n",
       "      <td>1</td>\n",
       "      <td>130250.000000</td>\n",
       "      <td>130250.000</td>\n",
       "    </tr>\n",
       "    <tr>\n",
       "      <th>3</th>\n",
       "      <td>Advertising</td>\n",
       "      <td>23</td>\n",
       "      <td>101649.899130</td>\n",
       "      <td>96529.420</td>\n",
       "    </tr>\n",
       "    <tr>\n",
       "      <th>4</th>\n",
       "      <td>Aerospace Engineering</td>\n",
       "      <td>24</td>\n",
       "      <td>125896.208333</td>\n",
       "      <td>113724.500</td>\n",
       "    </tr>\n",
       "    <tr>\n",
       "      <th>...</th>\n",
       "      <td>...</td>\n",
       "      <td>...</td>\n",
       "      <td>...</td>\n",
       "      <td>...</td>\n",
       "    </tr>\n",
       "    <tr>\n",
       "      <th>158</th>\n",
       "      <td>Vet Clinical Medicine</td>\n",
       "      <td>54</td>\n",
       "      <td>130757.009074</td>\n",
       "      <td>128438.405</td>\n",
       "    </tr>\n",
       "    <tr>\n",
       "      <th>159</th>\n",
       "      <td>Vet Med College-Wide Programs</td>\n",
       "      <td>1</td>\n",
       "      <td>89760.000000</td>\n",
       "      <td>89760.000</td>\n",
       "    </tr>\n",
       "    <tr>\n",
       "      <th>160</th>\n",
       "      <td>Vet Medicine Administration</td>\n",
       "      <td>2</td>\n",
       "      <td>251830.170000</td>\n",
       "      <td>251830.170</td>\n",
       "    </tr>\n",
       "    <tr>\n",
       "      <th>161</th>\n",
       "      <td>Veterinary Diagnostic Lab</td>\n",
       "      <td>19</td>\n",
       "      <td>130391.656842</td>\n",
       "      <td>123772.490</td>\n",
       "    </tr>\n",
       "    <tr>\n",
       "      <th>162</th>\n",
       "      <td>Veterinary Teaching Hospital</td>\n",
       "      <td>8</td>\n",
       "      <td>134015.693750</td>\n",
       "      <td>119500.000</td>\n",
       "    </tr>\n",
       "  </tbody>\n",
       "</table>\n",
       "<p>163 rows × 4 columns</p>\n",
       "</div>"
      ],
      "text/plain": [
       "                   Department Name Present Salary                           \n",
       "                                            count           mean      median\n",
       "0        ACES Info Tech & Cmc Svcs            323   14622.116192       0.000\n",
       "1                      Accountancy             62  208067.641290  223686.000\n",
       "2                  Action Learning              1  130250.000000  130250.000\n",
       "3                      Advertising             23  101649.899130   96529.420\n",
       "4            Aerospace Engineering             24  125896.208333  113724.500\n",
       "..                             ...            ...            ...         ...\n",
       "158          Vet Clinical Medicine             54  130757.009074  128438.405\n",
       "159  Vet Med College-Wide Programs              1   89760.000000   89760.000\n",
       "160    Vet Medicine Administration              2  251830.170000  251830.170\n",
       "161      Veterinary Diagnostic Lab             19  130391.656842  123772.490\n",
       "162   Veterinary Teaching Hospital              8  134015.693750  119500.000\n",
       "\n",
       "[163 rows x 4 columns]"
      ]
     },
     "execution_count": 61,
     "metadata": {},
     "output_type": "execute_result"
    }
   ],
   "source": [
    "# Create our group:\n",
    "agg_df = df2.groupby(\"Department Name\").agg([\"count\", \"mean\",\"median\"]).reset_index()\n",
    "agg_df"
   ]
  },
  {
   "cell_type": "code",
   "execution_count": 63,
   "metadata": {},
   "outputs": [
    {
     "data": {
      "text/html": [
       "<div>\n",
       "<style scoped>\n",
       "    .dataframe tbody tr th:only-of-type {\n",
       "        vertical-align: middle;\n",
       "    }\n",
       "\n",
       "    .dataframe tbody tr th {\n",
       "        vertical-align: top;\n",
       "    }\n",
       "\n",
       "    .dataframe thead tr th {\n",
       "        text-align: left;\n",
       "    }\n",
       "</style>\n",
       "<table border=\"1\" class=\"dataframe\">\n",
       "  <thead>\n",
       "    <tr>\n",
       "      <th></th>\n",
       "      <th>Department Name</th>\n",
       "      <th colspan=\"3\" halign=\"left\">Present Salary</th>\n",
       "    </tr>\n",
       "    <tr>\n",
       "      <th></th>\n",
       "      <th></th>\n",
       "      <th>count</th>\n",
       "      <th>mean</th>\n",
       "      <th>median</th>\n",
       "    </tr>\n",
       "  </thead>\n",
       "  <tbody>\n",
       "    <tr>\n",
       "      <th>28</th>\n",
       "      <td>Business Online Programs</td>\n",
       "      <td>1</td>\n",
       "      <td>185000.000000</td>\n",
       "      <td>185000.00</td>\n",
       "    </tr>\n",
       "    <tr>\n",
       "      <th>90</th>\n",
       "      <td>Interdis Health Sci Institute</td>\n",
       "      <td>1</td>\n",
       "      <td>97500.000000</td>\n",
       "      <td>97500.00</td>\n",
       "    </tr>\n",
       "    <tr>\n",
       "      <th>33</th>\n",
       "      <td>Center Innov in Teach Learn</td>\n",
       "      <td>3</td>\n",
       "      <td>123412.666667</td>\n",
       "      <td>125000.00</td>\n",
       "    </tr>\n",
       "    <tr>\n",
       "      <th>106</th>\n",
       "      <td>Materials Research Lab</td>\n",
       "      <td>1</td>\n",
       "      <td>90000.000000</td>\n",
       "      <td>90000.00</td>\n",
       "    </tr>\n",
       "    <tr>\n",
       "      <th>3</th>\n",
       "      <td>Advertising</td>\n",
       "      <td>23</td>\n",
       "      <td>101649.899130</td>\n",
       "      <td>96529.42</td>\n",
       "    </tr>\n",
       "    <tr>\n",
       "      <th>66</th>\n",
       "      <td>Fire Service Institute</td>\n",
       "      <td>1</td>\n",
       "      <td>113182.250000</td>\n",
       "      <td>113182.25</td>\n",
       "    </tr>\n",
       "    <tr>\n",
       "      <th>118</th>\n",
       "      <td>Mortenson Cntr Int'l Lib Prgms</td>\n",
       "      <td>1</td>\n",
       "      <td>185158.000000</td>\n",
       "      <td>185158.00</td>\n",
       "    </tr>\n",
       "    <tr>\n",
       "      <th>157</th>\n",
       "      <td>Urban &amp; Regional Planning</td>\n",
       "      <td>15</td>\n",
       "      <td>89597.333333</td>\n",
       "      <td>84811.00</td>\n",
       "    </tr>\n",
       "    <tr>\n",
       "      <th>87</th>\n",
       "      <td>Information Sciences</td>\n",
       "      <td>53</td>\n",
       "      <td>115629.022075</td>\n",
       "      <td>103070.74</td>\n",
       "    </tr>\n",
       "    <tr>\n",
       "      <th>34</th>\n",
       "      <td>Chemical &amp; Biomolecular Engr</td>\n",
       "      <td>21</td>\n",
       "      <td>143818.190476</td>\n",
       "      <td>135907.00</td>\n",
       "    </tr>\n",
       "  </tbody>\n",
       "</table>\n",
       "</div>"
      ],
      "text/plain": [
       "                    Department Name Present Salary                          \n",
       "                                             count           mean     median\n",
       "28         Business Online Programs              1  185000.000000  185000.00\n",
       "90    Interdis Health Sci Institute              1   97500.000000   97500.00\n",
       "33      Center Innov in Teach Learn              3  123412.666667  125000.00\n",
       "106          Materials Research Lab              1   90000.000000   90000.00\n",
       "3                       Advertising             23  101649.899130   96529.42\n",
       "66           Fire Service Institute              1  113182.250000  113182.25\n",
       "118  Mortenson Cntr Int'l Lib Prgms              1  185158.000000  185158.00\n",
       "157       Urban & Regional Planning             15   89597.333333   84811.00\n",
       "87             Information Sciences             53  115629.022075  103070.74\n",
       "34     Chemical & Biomolecular Engr             21  143818.190476  135907.00"
      ]
     },
     "execution_count": 63,
     "metadata": {},
     "output_type": "execute_result"
    }
   ],
   "source": [
    "# Display 10 random rows to make sure it works:\n",
    "agg_df.sample(10)"
   ]
  },
  {
   "cell_type": "markdown",
   "metadata": {},
   "source": [
    "### 🔬 Test Case Checkpoint 🔬"
   ]
  },
  {
   "cell_type": "code",
   "execution_count": 64,
   "metadata": {
    "deletable": false,
    "editable": false,
    "nbgrader": {
     "cell_type": "code",
     "checksum": "0bbf4ebd7bc25281632fc296ffd2b063",
     "grade": true,
     "grade_id": "cell-d4a69c902629304a",
     "locked": true,
     "points": 1,
     "schema_version": 3,
     "solution": false,
     "task": false
    }
   },
   "outputs": [
    {
     "name": "stdout",
     "output_type": "stream",
     "text": [
      "🎉 All tests passed! 🎉\n"
     ]
    }
   ],
   "source": [
    "## == TEST CASES for Puzzle 2.1 ==\n",
    "# - This read-only cell contains test cases for your previous cell.\n",
    "# - If this cell runs with a message (with the emoji showing), you PASSED all test cases!\n",
    "# - If this cell results in any errors, check your previous cell, make changes, and RE-RUN your code and then this cell.\n",
    "assert( len(agg_df) == 163 ), \"You should have 163 different departments.  Check to make sure you grouped the data?\"\n",
    "assert( \"Present Salary\" in agg_df ), \"You must have a salary output\"\n",
    "assert( \"mean\" in agg_df[\"Present Salary\"] ), \"Make sure you have a mean in your salary\"\n",
    "assert( \"count\" in agg_df[\"Present Salary\"] ), \"Make sure you have a count in your salary\"\n",
    "assert( \"median\" in agg_df[\"Present Salary\"] ), \"Make sure you have a median in your salary\"\n",
    "assert( len(agg_df.columns) == 4 ), \"Make sure you have ONLY the salary data and the department\"\n",
    "\n",
    "## == SUCCESS MESSAGE ==\n",
    "# You will only see this message (with the emoji showing) if you passed all test cases:\n",
    "tada = \"\\N{PARTY POPPER}\"\n",
    "print(f\"{tada} All tests passed! {tada}\")"
   ]
  },
  {
   "cell_type": "markdown",
   "metadata": {},
   "source": [
    "## Puzzle 2.2\n",
    "\n",
    "Let’s look at 3 different departments: The Department of English, The Department of Psychology, and The Department of Electrical & Computer Eng.  Find the mean salary for each of these departments.  We'll do the means first!"
   ]
  },
  {
   "cell_type": "code",
   "execution_count": 88,
   "metadata": {},
   "outputs": [
    {
     "data": {
      "text/plain": [
       "76303.20137931035"
      ]
     },
     "execution_count": 88,
     "metadata": {},
     "output_type": "execute_result"
    }
   ],
   "source": [
    "mean_English = df2[df2[\"Department Name\"] == \"English\"][\"Present Salary\"].mean()\n",
    "mean_English"
   ]
  },
  {
   "cell_type": "code",
   "execution_count": 89,
   "metadata": {},
   "outputs": [
    {
     "data": {
      "text/plain": [
       "111859.07629629632"
      ]
     },
     "execution_count": 89,
     "metadata": {},
     "output_type": "execute_result"
    }
   ],
   "source": [
    "mean_Psych = df2[df2[\"Department Name\"] == \"Psychology\"][\"Present Salary\"].mean()\n",
    "mean_Psych"
   ]
  },
  {
   "cell_type": "code",
   "execution_count": 95,
   "metadata": {},
   "outputs": [
    {
     "data": {
      "text/plain": [
       "142690.60805555555"
      ]
     },
     "execution_count": 95,
     "metadata": {},
     "output_type": "execute_result"
    }
   ],
   "source": [
    "mean_ECE = df2[df2[\"Department Name\"] == \"Electrical & Computer Eng\"][\"Present Salary\"].mean()\n",
    "mean_ECE"
   ]
  },
  {
   "cell_type": "markdown",
   "metadata": {},
   "source": [
    "### 🔬 Test Case Checkpoint 🔬"
   ]
  },
  {
   "cell_type": "code",
   "execution_count": 96,
   "metadata": {},
   "outputs": [
    {
     "name": "stdout",
     "output_type": "stream",
     "text": [
      "🎉 All tests passed! 🎉\n"
     ]
    }
   ],
   "source": [
    "## == TEST CASES for Puzzle 2.2 ==\n",
    "# - This read-only cell contains test cases for your previous cell.\n",
    "# - If this cell runs with a message (with the emoji showing), you PASSED all test cases!\n",
    "# - If this cell results in any errors, check your previous cell, make changes, and RE-RUN your code and then this cell.\n",
    "x = mean_English + mean_Psych + mean_ECE\n",
    "\n",
    "assert( x > 330852.8850 ), \"It looks like your calculations are off?\"\n",
    "assert( x < 330852.8860 ), \"It looks like your calculations are off?\"\n",
    "\n",
    "## == SUCCESS MESSAGE ==\n",
    "# You will only see this message (with the emoji showing) if you passed all test cases:\n",
    "tada = \"\\N{PARTY POPPER}\"\n",
    "print(f\"{tada} All tests passed! {tada}\")"
   ]
  },
  {
   "cell_type": "markdown",
   "metadata": {},
   "source": [
    "## Puzzle 2.3\n",
    "\n",
    "Find the **median** salaries of the following departments: The Department of English, The Department of Psychology, and The Department of Electrical & Computer Eng.  "
   ]
  },
  {
   "cell_type": "code",
   "execution_count": 97,
   "metadata": {},
   "outputs": [
    {
     "data": {
      "text/plain": [
       "62424.0"
      ]
     },
     "execution_count": 97,
     "metadata": {},
     "output_type": "execute_result"
    }
   ],
   "source": [
    "median_English = df2[df2[\"Department Name\"] == \"English\"][\"Present Salary\"].median()\n",
    "median_English"
   ]
  },
  {
   "cell_type": "code",
   "execution_count": 98,
   "metadata": {},
   "outputs": [
    {
     "data": {
      "text/plain": [
       "102121.44"
      ]
     },
     "execution_count": 98,
     "metadata": {},
     "output_type": "execute_result"
    }
   ],
   "source": [
    "median_Psych = df2[df2[\"Department Name\"] == \"Psychology\"][\"Present Salary\"].median()\n",
    "median_Psych"
   ]
  },
  {
   "cell_type": "code",
   "execution_count": 99,
   "metadata": {},
   "outputs": [
    {
     "data": {
      "text/plain": [
       "132027.5"
      ]
     },
     "execution_count": 99,
     "metadata": {},
     "output_type": "execute_result"
    }
   ],
   "source": [
    "median_ECE = df2[df2[\"Department Name\"] == \"Electrical & Computer Eng\"][\"Present Salary\"].median()\n",
    "median_ECE"
   ]
  },
  {
   "cell_type": "markdown",
   "metadata": {},
   "source": [
    "### 🔬 Test Case Checkpoint 🔬"
   ]
  },
  {
   "cell_type": "code",
   "execution_count": 100,
   "metadata": {},
   "outputs": [
    {
     "name": "stdout",
     "output_type": "stream",
     "text": [
      "🎉 All tests passed! 🎉\n"
     ]
    }
   ],
   "source": [
    "## == TEST CASES for Puzzle 2.3 ==\n",
    "# - This read-only cell contains test cases for your previous cell.\n",
    "# - If this cell runs with a message (with the emoji showing), you PASSED all test cases!\n",
    "# - If this cell results in any errors, check your previous cell, make changes, and RE-RUN your code and then this cell.\n",
    "y = median_English + median_Psych + median_ECE\n",
    "\n",
    "assert( y < 296572.95 ), \"It looks like your calculations are off?\"\n",
    "assert( y > 296572.93 ), \"It looks like your calculations are off?\"\n",
    "\n",
    "## == SUCCESS MESSAGE ==\n",
    "# You will only see this message (with the emoji showing) if you passed all test cases:\n",
    "tada = \"\\N{PARTY POPPER}\"\n",
    "print(f\"{tada} All tests passed! {tada}\")"
   ]
  },
  {
   "cell_type": "markdown",
   "metadata": {},
   "source": [
    "**❓ Individual Reflection❓**\n",
    "\n",
    "Are the means and medians drastically different from each other in each department and between each of the 3 departments? Think about why or why not. Are there any confounding variables that could be driving these differences?  Write at least 3 sentences below.  "
   ]
  },
  {
   "cell_type": "markdown",
   "metadata": {},
   "source": [
    "**Your Response:** All the medians are less than the means. Because there are some professors' salaries are too high that make the means higher. Salaries also differ drastically between 3 departments. There can be more assistance and less professors in departments that salaries are lower.\n"
   ]
  },
  {
   "cell_type": "markdown",
   "metadata": {},
   "source": [
    "## Puzzle 2.4\n",
    "\n",
    "Create a histogram of the present salaries in your home department.  In other words, if your major is Statistics, you should have a histogram of all the salaries in the Statistics Department. Also, find the maximum and minimum salary in your home department. If you're undecided, pick a department you are interested in."
   ]
  },
  {
   "cell_type": "code",
   "execution_count": 102,
   "metadata": {},
   "outputs": [
    {
     "data": {
      "text/plain": [
       "<AxesSubplot: ylabel='Frequency'>"
      ]
     },
     "execution_count": 102,
     "metadata": {},
     "output_type": "execute_result"
    },
    {
     "data": {
      "image/png": "[encoded data removed]",
      "text/plain": [
       "<Figure size 640x480 with 1 Axes>"
      ]
     },
     "metadata": {},
     "output_type": "display_data"
    }
   ],
   "source": [
    "# histogram of your home department\n",
    "stats = df2[df2[\"Department Name\"] == \"Statistics\"]\n",
    "stats.plot.hist()"
   ]
  },
  {
   "cell_type": "code",
   "execution_count": 103,
   "metadata": {},
   "outputs": [
    {
     "data": {
      "text/html": [
       "<div>\n",
       "<style scoped>\n",
       "    .dataframe tbody tr th:only-of-type {\n",
       "        vertical-align: middle;\n",
       "    }\n",
       "\n",
       "    .dataframe tbody tr th {\n",
       "        vertical-align: top;\n",
       "    }\n",
       "\n",
       "    .dataframe thead th {\n",
       "        text-align: right;\n",
       "    }\n",
       "</style>\n",
       "<table border=\"1\" class=\"dataframe\">\n",
       "  <thead>\n",
       "    <tr style=\"text-align: right;\">\n",
       "      <th></th>\n",
       "      <th>Department Name</th>\n",
       "      <th>Present Salary</th>\n",
       "    </tr>\n",
       "  </thead>\n",
       "  <tbody>\n",
       "    <tr>\n",
       "      <th>2656</th>\n",
       "      <td>Statistics</td>\n",
       "      <td>179200.0</td>\n",
       "    </tr>\n",
       "  </tbody>\n",
       "</table>\n",
       "</div>"
      ],
      "text/plain": [
       "     Department Name  Present Salary\n",
       "2656      Statistics        179200.0"
      ]
     },
     "execution_count": 103,
     "metadata": {},
     "output_type": "execute_result"
    }
   ],
   "source": [
    "#find the max and min salary for your home department\n",
    "stats.nlargest(1,\"Present Salary\")"
   ]
  },
  {
   "cell_type": "markdown",
   "metadata": {},
   "source": [
    "**❓ Group Discussion ❓**\n",
    "\n",
    "Share the results with the people at your table. Do you notice any similarities or differences between departments?"
   ]
  },
  {
   "cell_type": "markdown",
   "metadata": {},
   "source": [
    "**❓ Individual Reflection ❓**\n",
    "Write down something you learned from your group discussion! Write at least 3 sentences."
   ]
  },
  {
   "cell_type": "markdown",
   "metadata": {},
   "source": [
    "**Your Response:** There is a gap of salary between 40000 and 60000. The mode of salary is 100000. There are still an amount of people who have the greatest salary."
   ]
  },
  {
   "cell_type": "markdown",
   "metadata": {},
   "source": [
    "<hr style=\"color: #DD3403;\">"
   ]
  },
  {
   "cell_type": "markdown",
   "metadata": {},
   "source": [
    "## 3. Genders and Salaries\n",
    "\n",
    "Data can often reveal systemic problems or discrimination. For example, in many companies, men and women are promoted at different rates.  Let’s look at a subset of the salary dataset to investigate whether or not there is a difference in salaries between faculty who identify as men and women in two departments. We have this data for the STAT and CS departments (Karle and Wade’s home departments) and have compiled it in a dataset called `STAT_CS_gender.csv`. This data is also located in the same directory as this lab!"
   ]
  },
  {
   "cell_type": "markdown",
   "metadata": {},
   "source": [
    "## Puzzle 3.1\n",
    "Import that `STAT_CS_gender.csv` and store it in a variable called `statcs_df` and display it to see what it looks like!"
   ]
  },
  {
   "cell_type": "code",
   "execution_count": 106,
   "metadata": {
    "deletable": false,
    "nbgrader": {
     "cell_type": "code",
     "checksum": "fbf16695acaebfe92f608b5121644035",
     "grade": false,
     "grade_id": "cell-dca5763613817466",
     "locked": false,
     "schema_version": 3,
     "solution": true,
     "task": false
    }
   },
   "outputs": [
    {
     "data": {
      "text/html": [
       "<div>\n",
       "<style scoped>\n",
       "    .dataframe tbody tr th:only-of-type {\n",
       "        vertical-align: middle;\n",
       "    }\n",
       "\n",
       "    .dataframe tbody tr th {\n",
       "        vertical-align: top;\n",
       "    }\n",
       "\n",
       "    .dataframe thead th {\n",
       "        text-align: right;\n",
       "    }\n",
       "</style>\n",
       "<table border=\"1\" class=\"dataframe\">\n",
       "  <thead>\n",
       "    <tr style=\"text-align: right;\">\n",
       "      <th></th>\n",
       "      <th>Employee Name</th>\n",
       "      <th>Gender</th>\n",
       "      <th>Job Title</th>\n",
       "      <th>Tenure</th>\n",
       "      <th>Empl Class</th>\n",
       "      <th>Present FTE</th>\n",
       "      <th>Proposed FTE</th>\n",
       "      <th>Present Salary</th>\n",
       "      <th>Proposed Salary</th>\n",
       "      <th>College Code</th>\n",
       "      <th>College Name</th>\n",
       "      <th>Department Code</th>\n",
       "      <th>Department Name</th>\n",
       "    </tr>\n",
       "  </thead>\n",
       "  <tbody>\n",
       "    <tr>\n",
       "      <th>0</th>\n",
       "      <td>Al-Hassanieh, Haitham</td>\n",
       "      <td>M</td>\n",
       "      <td>ASST PROF</td>\n",
       "      <td>NaN</td>\n",
       "      <td>AB</td>\n",
       "      <td>0.0</td>\n",
       "      <td>0.0</td>\n",
       "      <td>0.0</td>\n",
       "      <td>0.0</td>\n",
       "      <td>KP</td>\n",
       "      <td>Grainger Engineering</td>\n",
       "      <td>434</td>\n",
       "      <td>Computer Science</td>\n",
       "    </tr>\n",
       "    <tr>\n",
       "      <th>1</th>\n",
       "      <td>Amato, Nancy Marie</td>\n",
       "      <td>F</td>\n",
       "      <td>PROF</td>\n",
       "      <td>A</td>\n",
       "      <td>AA</td>\n",
       "      <td>1.0</td>\n",
       "      <td>1.0</td>\n",
       "      <td>250000.0</td>\n",
       "      <td>275000.0</td>\n",
       "      <td>KP</td>\n",
       "      <td>Grainger Engineering</td>\n",
       "      <td>434</td>\n",
       "      <td>Computer Science</td>\n",
       "    </tr>\n",
       "    <tr>\n",
       "      <th>2</th>\n",
       "      <td>Anastasio, Mark A</td>\n",
       "      <td>M</td>\n",
       "      <td>PROF</td>\n",
       "      <td>NaN</td>\n",
       "      <td>AA</td>\n",
       "      <td>0.0</td>\n",
       "      <td>0.0</td>\n",
       "      <td>0.0</td>\n",
       "      <td>0.0</td>\n",
       "      <td>KP</td>\n",
       "      <td>Grainger Engineering</td>\n",
       "      <td>434</td>\n",
       "      <td>Computer Science</td>\n",
       "    </tr>\n",
       "    <tr>\n",
       "      <th>3</th>\n",
       "      <td>Bailey, Michael Donald</td>\n",
       "      <td>M</td>\n",
       "      <td>PROF</td>\n",
       "      <td>NaN</td>\n",
       "      <td>AA</td>\n",
       "      <td>0.0</td>\n",
       "      <td>0.0</td>\n",
       "      <td>0.0</td>\n",
       "      <td>0.0</td>\n",
       "      <td>KP</td>\n",
       "      <td>Grainger Engineering</td>\n",
       "      <td>434</td>\n",
       "      <td>Computer Science</td>\n",
       "    </tr>\n",
       "    <tr>\n",
       "      <th>4</th>\n",
       "      <td>Banerjee, Arindam</td>\n",
       "      <td>M</td>\n",
       "      <td>PROF</td>\n",
       "      <td>A</td>\n",
       "      <td>AA</td>\n",
       "      <td>1.0</td>\n",
       "      <td>1.0</td>\n",
       "      <td>173000.0</td>\n",
       "      <td>176460.0</td>\n",
       "      <td>KP</td>\n",
       "      <td>Grainger Engineering</td>\n",
       "      <td>434</td>\n",
       "      <td>Computer Science</td>\n",
       "    </tr>\n",
       "    <tr>\n",
       "      <th>...</th>\n",
       "      <td>...</td>\n",
       "      <td>...</td>\n",
       "      <td>...</td>\n",
       "      <td>...</td>\n",
       "      <td>...</td>\n",
       "      <td>...</td>\n",
       "      <td>...</td>\n",
       "      <td>...</td>\n",
       "      <td>...</td>\n",
       "      <td>...</td>\n",
       "      <td>...</td>\n",
       "      <td>...</td>\n",
       "      <td>...</td>\n",
       "    </tr>\n",
       "    <tr>\n",
       "      <th>222</th>\n",
       "      <td>Warnow, Tandy</td>\n",
       "      <td>F</td>\n",
       "      <td>PROF</td>\n",
       "      <td>NaN</td>\n",
       "      <td>AA</td>\n",
       "      <td>0.0</td>\n",
       "      <td>0.0</td>\n",
       "      <td>0.0</td>\n",
       "      <td>0.0</td>\n",
       "      <td>KV</td>\n",
       "      <td>Liberal Arts &amp; Sciences</td>\n",
       "      <td>583</td>\n",
       "      <td>Statistics</td>\n",
       "    </tr>\n",
       "    <tr>\n",
       "      <th>223</th>\n",
       "      <td>Yang, Yun</td>\n",
       "      <td>M</td>\n",
       "      <td>ASST PROF</td>\n",
       "      <td>P</td>\n",
       "      <td>AA</td>\n",
       "      <td>1.0</td>\n",
       "      <td>1.0</td>\n",
       "      <td>104500.0</td>\n",
       "      <td>106590.0</td>\n",
       "      <td>KV</td>\n",
       "      <td>Liberal Arts &amp; Sciences</td>\n",
       "      <td>583</td>\n",
       "      <td>Statistics</td>\n",
       "    </tr>\n",
       "    <tr>\n",
       "      <th>224</th>\n",
       "      <td>Zhai, Chengxiang</td>\n",
       "      <td>M</td>\n",
       "      <td>PROF</td>\n",
       "      <td>NaN</td>\n",
       "      <td>AA</td>\n",
       "      <td>0.0</td>\n",
       "      <td>0.0</td>\n",
       "      <td>0.0</td>\n",
       "      <td>0.0</td>\n",
       "      <td>KV</td>\n",
       "      <td>Liberal Arts &amp; Sciences</td>\n",
       "      <td>583</td>\n",
       "      <td>Statistics</td>\n",
       "    </tr>\n",
       "    <tr>\n",
       "      <th>225</th>\n",
       "      <td>Zhao, Sihai Dave</td>\n",
       "      <td>M</td>\n",
       "      <td>ASSOC PROF</td>\n",
       "      <td>A</td>\n",
       "      <td>AA</td>\n",
       "      <td>1.0</td>\n",
       "      <td>1.0</td>\n",
       "      <td>113800.0</td>\n",
       "      <td>119300.0</td>\n",
       "      <td>KV</td>\n",
       "      <td>Liberal Arts &amp; Sciences</td>\n",
       "      <td>583</td>\n",
       "      <td>Statistics</td>\n",
       "    </tr>\n",
       "    <tr>\n",
       "      <th>226</th>\n",
       "      <td>Zhu, Ruoqing</td>\n",
       "      <td>M</td>\n",
       "      <td>ASST PROF</td>\n",
       "      <td>P</td>\n",
       "      <td>AA</td>\n",
       "      <td>1.0</td>\n",
       "      <td>1.0</td>\n",
       "      <td>103400.0</td>\n",
       "      <td>105468.0</td>\n",
       "      <td>KV</td>\n",
       "      <td>Liberal Arts &amp; Sciences</td>\n",
       "      <td>583</td>\n",
       "      <td>Statistics</td>\n",
       "    </tr>\n",
       "  </tbody>\n",
       "</table>\n",
       "<p>227 rows × 13 columns</p>\n",
       "</div>"
      ],
      "text/plain": [
       "              Employee Name Gender   Job Title Tenure Empl Class  Present FTE  \\\n",
       "0     Al-Hassanieh, Haitham      M   ASST PROF    NaN         AB          0.0   \n",
       "1        Amato, Nancy Marie      F        PROF      A         AA          1.0   \n",
       "2         Anastasio, Mark A      M        PROF    NaN         AA          0.0   \n",
       "3    Bailey, Michael Donald      M        PROF    NaN         AA          0.0   \n",
       "4         Banerjee, Arindam      M        PROF      A         AA          1.0   \n",
       "..                      ...    ...         ...    ...        ...          ...   \n",
       "222           Warnow, Tandy      F        PROF    NaN         AA          0.0   \n",
       "223               Yang, Yun      M   ASST PROF      P         AA          1.0   \n",
       "224        Zhai, Chengxiang      M        PROF    NaN         AA          0.0   \n",
       "225        Zhao, Sihai Dave      M  ASSOC PROF      A         AA          1.0   \n",
       "226            Zhu, Ruoqing      M   ASST PROF      P         AA          1.0   \n",
       "\n",
       "     Proposed FTE  Present Salary  Proposed Salary College Code  \\\n",
       "0             0.0             0.0              0.0           KP   \n",
       "1             1.0        250000.0         275000.0           KP   \n",
       "2             0.0             0.0              0.0           KP   \n",
       "3             0.0             0.0              0.0           KP   \n",
       "4             1.0        173000.0         176460.0           KP   \n",
       "..            ...             ...              ...          ...   \n",
       "222           0.0             0.0              0.0           KV   \n",
       "223           1.0        104500.0         106590.0           KV   \n",
       "224           0.0             0.0              0.0           KV   \n",
       "225           1.0        113800.0         119300.0           KV   \n",
       "226           1.0        103400.0         105468.0           KV   \n",
       "\n",
       "                College Name  Department Code   Department Name  \n",
       "0       Grainger Engineering              434  Computer Science  \n",
       "1       Grainger Engineering              434  Computer Science  \n",
       "2       Grainger Engineering              434  Computer Science  \n",
       "3       Grainger Engineering              434  Computer Science  \n",
       "4       Grainger Engineering              434  Computer Science  \n",
       "..                       ...              ...               ...  \n",
       "222  Liberal Arts & Sciences              583        Statistics  \n",
       "223  Liberal Arts & Sciences              583        Statistics  \n",
       "224  Liberal Arts & Sciences              583        Statistics  \n",
       "225  Liberal Arts & Sciences              583        Statistics  \n",
       "226  Liberal Arts & Sciences              583        Statistics  \n",
       "\n",
       "[227 rows x 13 columns]"
      ]
     },
     "execution_count": 106,
     "metadata": {},
     "output_type": "execute_result"
    }
   ],
   "source": [
    "# Load the dataset and display it:\n",
    "statcs_df = pd.read_csv(\"STAT_CS_gender.csv\")\n",
    "statcs_df"
   ]
  },
  {
   "cell_type": "markdown",
   "metadata": {},
   "source": [
    "## Puzzle 3.2\n",
    "Create two boxplots of the Present Salaries for male and female in dataset `statcs_df`.  In your boxplots, make sure the **only box** is the present salary.  "
   ]
  },
  {
   "cell_type": "code",
   "execution_count": 109,
   "metadata": {},
   "outputs": [
    {
     "data": {
      "text/plain": [
       "<AxesSubplot: >"
      ]
     },
     "execution_count": 109,
     "metadata": {},
     "output_type": "execute_result"
    },
    {
     "data": {
      "image/png": "[encoded data removed]",
      "text/plain": [
       "<Figure size 640x480 with 1 Axes>"
      ]
     },
     "metadata": {},
     "output_type": "display_data"
    }
   ],
   "source": [
    "# Create a boxplot of the present salaries of female faculty:\n",
    "fe = statcs_df[statcs_df.Gender == \"F\"]\n",
    "fe[\"Present Salary\"].plot.box()"
   ]
  },
  {
   "cell_type": "code",
   "execution_count": 110,
   "metadata": {},
   "outputs": [
    {
     "data": {
      "text/plain": [
       "<AxesSubplot: >"
      ]
     },
     "execution_count": 110,
     "metadata": {},
     "output_type": "execute_result"
    },
    {
     "data": {
      "image/png": "[encoded data removed]",
      "text/plain": [
       "<Figure size 640x480 with 1 Axes>"
      ]
     },
     "metadata": {},
     "output_type": "display_data"
    }
   ],
   "source": [
    "# Create a boxplot of the present salaries of male faculty:\n",
    "ma = statcs_df[statcs_df.Gender == \"M\"]\n",
    "ma[\"Present Salary\"].plot.box()"
   ]
  },
  {
   "cell_type": "markdown",
   "metadata": {},
   "source": [
    "## Puzzle 3.3\n",
    "\n",
    "Next, calculate the overall mean, median, and SD of the salaries for the data in `statcs_df`."
   ]
  },
  {
   "cell_type": "code",
   "execution_count": 112,
   "metadata": {},
   "outputs": [
    {
     "data": {
      "text/plain": [
       "81978.23810572688"
      ]
     },
     "execution_count": 112,
     "metadata": {},
     "output_type": "execute_result"
    }
   ],
   "source": [
    "overall_mean = statcs_df[\"Present Salary\"].mean()\n",
    "overall_mean"
   ]
  },
  {
   "cell_type": "code",
   "execution_count": 115,
   "metadata": {},
   "outputs": [
    {
     "data": {
      "text/plain": [
       "100000.0"
      ]
     },
     "execution_count": 115,
     "metadata": {},
     "output_type": "execute_result"
    }
   ],
   "source": [
    "overall_median = statcs_df[\"Present Salary\"].median()\n",
    "overall_median"
   ]
  },
  {
   "cell_type": "code",
   "execution_count": 114,
   "metadata": {
    "deletable": false,
    "nbgrader": {
     "cell_type": "code",
     "checksum": "2fdb936f99485f2c4244bfd1a6eb4b08",
     "grade": false,
     "grade_id": "cell-8d360389fd08fc8f",
     "locked": false,
     "schema_version": 3,
     "solution": true,
     "task": false
    }
   },
   "outputs": [
    {
     "data": {
      "text/plain": [
       "73067.39110214954"
      ]
     },
     "execution_count": 114,
     "metadata": {},
     "output_type": "execute_result"
    }
   ],
   "source": [
    "overall_SD = statcs_df[\"Present Salary\"].std()\n",
    "overall_SD"
   ]
  },
  {
   "cell_type": "markdown",
   "metadata": {},
   "source": [
    "### 🔬 Test Case Checkpoint 🔬"
   ]
  },
  {
   "cell_type": "code",
   "execution_count": 116,
   "metadata": {},
   "outputs": [
    {
     "name": "stdout",
     "output_type": "stream",
     "text": [
      "🎉 All tests passed! 🎉\n"
     ]
    }
   ],
   "source": [
    "## == TEST CASES for Puzzle 3.2 ==\n",
    "# - This read-only cell contains test cases for your previous cell.\n",
    "# - If this cell runs with a message (with the emoji showing), you PASSED all test cases!\n",
    "# - If this cell results in any errors, check your previous cell, make changes, and RE-RUN your code and then this cell.\n",
    "x = overall_median + overall_median + overall_SD\n",
    "y = ((overall_mean - overall_median) * overall_SD) / overall_SD\n",
    "\n",
    "assert( abs(x - 273067.39110214956) < 0.1 ), \"It looks like your calculations are off?\"\n",
    "assert( abs(y + 18021.76189427312) < 0.1 ), \"It looks like your calculations are off?\"\n",
    "\n",
    "## == SUCCESS MESSAGE ==\n",
    "# You will only see this message (with the emoji showing) if you passed all test cases:\n",
    "tada = \"\\N{PARTY POPPER}\"\n",
    "print(f\"{tada} All tests passed! {tada}\")"
   ]
  },
  {
   "cell_type": "markdown",
   "metadata": {},
   "source": [
    "<hr style=\"color: #DD3403;\">"
   ]
  },
  {
   "cell_type": "markdown",
   "metadata": {},
   "source": [
    "## 4. Exploring Your Own Interests\n",
    "\n",
    "\n",
    "At this point of the lab, we have investigated a lot of questions, however, these have been questions that we have told you to answer. As a data scientist, it is important to be able to use the data science skills that you learn in the classroom to answer real questions that you have.  \n",
    "\n",
    " **❓ Individual Reflections ❓**\n",
    "\n",
    "Think about two questions that you have that have not been answered. Record them below.  Then, answer at least one of these questions using Python and either dataset.  "
   ]
  },
  {
   "cell_type": "markdown",
   "metadata": {},
   "source": [
    "**Unanswered Question 1:** box plot of the difference between proposed salary and present salary in stats department\n",
    "**Unanswered Question 2:**male and female salary differences in stats department\n"
   ]
  },
  {
   "cell_type": "code",
   "execution_count": 126,
   "metadata": {},
   "outputs": [
    {
     "data": {
      "text/plain": [
       "<AxesSubplot: >"
      ]
     },
     "execution_count": 126,
     "metadata": {},
     "output_type": "execute_result"
    },
    {
     "data": {
      "image/png": "[encoded data removed]",
      "text/plain": [
       "<Figure size 640x480 with 1 Axes>"
      ]
     },
     "metadata": {},
     "output_type": "display_data"
    }
   ],
   "source": [
    "# Answer a question that you have using Python in this cell- it can be something simple!\n",
    "diff = statcs_df[\"Proposed Salary\"] - statcs_df[\"Present Salary\"]\n",
    "statcs_df[\"diff\"] = diff\n",
    "statcs_df[\"diff\"].plot.box()"
   ]
  },
  {
   "cell_type": "markdown",
   "metadata": {},
   "source": [
    "**❓ Group Discussion ❓**\n",
    "\n",
    "Share your question and results with your group. "
   ]
  },
  {
   "cell_type": "markdown",
   "metadata": {},
   "source": [
    "<hr style=\"color: #DD3403;\">"
   ]
  },
  {
   "cell_type": "markdown",
   "metadata": {},
   "source": [
    "## 5. Beyond Stat 107\n",
    "\n",
    "As a data scientist, it is important to think about the implications of collecting and not collecting certain data.  Data that is **not** collected in an analysis is called *counter data*.  \n",
    "\n",
    "Many times, data is collected to make a profit.  Data has even been referred to as “the new oil” because it is oftentimes seen as an uncapped natural resource and if you can figure out how to capture and refine it, it can lead to a massive profit.\n",
    "\n",
    "It’s also important to think about who data analysis can benefit and who it can harm.  It’s also important to think about why the data is collected and why counter data is not collected.  \n",
    "\n",
    "\n",
    "**❓ Last Individual Reflection ❓**\n",
    "Write a paragraph style response (at least 5 complete sentences) summarizing what you learned from working with the salary data from this lab. We have listed a few questions below to give you some ideas on what to write about if you need them.\n",
    "\n",
    "- What is some counter data that you’d like to collect in regard to salaries? Why do you think it’s important to collect this data?  \n",
    "- Who benefits from collecting this salary data?  Who does this data harm?\n",
    "- Why do you think this salary data is public? Can you think of any reasons that this could be problematic? \n",
    "- What did you learn from looking at the salaries stratified by gender?"
   ]
  },
  {
   "cell_type": "markdown",
   "metadata": {},
   "source": [
    "**Your Response:** I would like to collect some counter data like the number of courses each professor teach to get correlations between the salary and number of courses they teach. People who would like to be professors will benefit from these data because they can compare salaires between different colleges. The data would harm the professors whose salaries are collected. The data is public to provide information of where the college spend its money. Stratified by gender, men have higher median salaries than female, but their range is the same."
   ]
  },
  {
   "cell_type": "markdown",
   "metadata": {},
   "source": [
    "<hr style=\"color: #DD3403;\">"
   ]
  },
  {
   "cell_type": "markdown",
   "metadata": {},
   "source": [
    "## **Submission** \n",
    "\n",
    "\n",
    "You're almost done! All you need to do is to commit your lab to GitHub:\n",
    "\n",
    "1. Make certain to save your work. To do this, go to **File => Save All**\n",
    "\n",
    "2. After you have saved, exit this notebook and follow the Canvas instructions to commit this lab to your Git repository!\n",
    "\n",
    "3. Your TA will grade your submission and provide you feedback after the lab is due. :)"
   ]
  }
 ],
 "metadata": {
  "kernelspec": {
   "display_name": "Python 3.10.6 64-bit",
   "language": "python",
   "name": "python3"
  },
  "language_info": {
   "codemirror_mode": {
    "name": "ipython",
    "version": 3
   },
   "file_extension": ".py",
   "mimetype": "text/x-python",
   "name": "python",
   "nbconvert_exporter": "python",
   "pygments_lexer": "ipython3",
   "version": "3.10.6"
  },
  "vscode": {
   "interpreter": {
    "hash": "aee8b7b246df8f9039afb4144a1f6fd8d2ca17a180786b69acc140d282b71a49"
   }
  }
 },
 "nbformat": 4,
 "nbformat_minor": 2
}
