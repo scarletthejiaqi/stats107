{
 "cells": [
  {
   "cell_type": "markdown",
   "metadata": {},
   "source": [
    "# Welcome to a Jupyter Notebook!\n",
    "\n",
    "You are in your very first Jupyter Notebook for Data Science DISCOVERY!  Notebooks allow us to combine text (like you're reading now) with Python code. Just like learning a new spoken language, you won't learn the language without practice -- labs are an important part of the course!\n",
    "\n",
    "**You are not alone on your journey in learning programming!**  You have your lab Teaching Assistant, your Course Aides, your lab group, the professors (Prof. Wade and Prof. Karle), who are all here to help you out!\n",
    "\n",
    "- If you find yourself stuck for more than a few minutes, ask a neighbor or course staff for help!  When you are giving help to your neighbor, explain the **idea and approach** to the problem without sharing the answer itself so they can have the same **<i>ah-hah</i>** moment!\n",
    "\n",
    "- We are here to help you!  Don't feel embarrassed or shy to ask us for help!\n",
    "\n",
    "Let's get started!\n",
    "\n",
    "<!--\n",
    "## Introduction to Data Science Discovery!\n",
    "\n",
    "Today, you will:\n",
    "\n",
    "- Explore how to navigate and use Jupyter notebooks (this tool you're looking at!)\n",
    "- Write a few basic Python commands\n",
    "- Learn how to turn in assignments using git\n",
    "-->"
   ]
  },
  {
   "cell_type": "markdown",
   "metadata": {},
   "source": [
    "<hr style=\"color: #DD3403;\">"
   ]
  },
  {
   "cell_type": "markdown",
   "metadata": {},
   "source": [
    "# Part 1: Introduction to a Python Notebook\n",
    "\n",
    "Every single computer is slightly different and everything has to be configured **exactly right** for Python to run.  The good news is that you only have to do your computer setup once and most of the time it just works the first time.\n",
    "\n",
    "In this part of the lab, you will learn about the notebook environment and run your first Python code.\n"
   ]
  },
  {
   "cell_type": "markdown",
   "metadata": {},
   "source": [
    "\n",
    "## Types of Cells\n",
    "\n",
    "Jupyter notebooks are organized into rectangular **cells**.  Every **cell** will either be one of either:\n",
    "\n",
    "1. A **Markdown cell**, which contains text instructions (like the cell you are reading now).  **Markdown cells** will have formatted text and will have a solid background (usually solid black or white, depending on your color settings).\n",
    "2. A **Python cell**, which contains Python code.  **Python cells** (which you will see shortly) will have a gray background and colored text."
   ]
  },
  {
   "cell_type": "markdown",
   "metadata": {},
   "source": [
    "## Editing Cells\n",
    "\n",
    "Every cell can be edited by **double clicking on the cell**.\n",
    "\n",
    "- Double click on this cell right now!\n",
    "- Edit the end of this line and add your name: ➡️ JiaqiHe ⬅️\n",
    "\n",
    "Once you are finishing editing:\n",
    "\n",
    "- Press **CTRL + ENTER** to exit editing and \"run\" the cell.\n",
    "- Press **CTRL + ALT + ENTER** to \"run\" the cell without exiting.\n",
    "- Press **SHIFT + ENTER** to exit editing, \"run\" the cell, AND advance to the next cell.\n",
    "- (Or you can also press `▶` on the left side of the cell -- this does the same as **CTRL + ALT + ENTER**.)\n",
    "\n",
    "\"Running\" a Markdown cell will save it and make it part of your notebook.\n"
   ]
  },
  {
   "cell_type": "code",
   "execution_count": 9,
   "metadata": {},
   "outputs": [
    {
     "data": {
      "text/plain": [
       "3"
      ]
     },
     "execution_count": 9,
     "metadata": {},
     "output_type": "execute_result"
    }
   ],
   "source": [
    "\n",
    "3+5"
   ]
  },
  {
   "cell_type": "markdown",
   "metadata": {},
   "source": [
    "## Python Cells\n",
    "\n",
    "Python cells are cells that contain Python code -- the programming language we will use for Data Science Discovery.  When you \"run\" a Python cell, you will run your snippet of code!\n",
    "\n",
    "Python is a programming language that was designed to be easy and simple to use, and notebooks make it even easier to use.  The most basic operations that a computer can do are simple math.\n",
    "\n",
    "The next cell is your first Python cell, where we already asked the computer to compute `5 + 4`:"
   ]
  },
  {
   "cell_type": "code",
   "execution_count": 10,
   "metadata": {},
   "outputs": [
    {
     "data": {
      "text/plain": [
       "9"
      ]
     },
     "execution_count": 10,
     "metadata": {},
     "output_type": "execute_result"
    }
   ],
   "source": [
    "5 + 4"
   ]
  },
  {
   "cell_type": "markdown",
   "metadata": {},
   "source": [
    "### Verify Your Notebook Works\n",
    "\n",
    "If Python is completely set up correctly, you should see a green check mark `✓` **AND** the result `9`.\n",
    "\n",
    "- You may get a message saying: `Running cells with 'Python 3.10.5 64-bit' requires ipykernel package.` (or similar).  Click `Install` and try again.\n",
    "\n",
    "- If this keeps happening, or you get other error messages **READ THE TEXT BELOW THE CELL**.  You may have a command you need to run in the terminal.  *(To bring up the terminal, click \"Terminal -> New Terminal\" at the top of VS Code.)*\n",
    "\n",
    "- If you're confused, **ask us for help!**  It is important you get Python running."
   ]
  },
  {
   "cell_type": "markdown",
   "metadata": {},
   "source": [
    "### Verify you are using Python 3.7+\n",
    "\n",
    "You need Python 3.7 (or higher) for DISCOVERY.  This line of code only runs in Python 3.7 or higher and will also print out `9`.\n"
   ]
  },
  {
   "cell_type": "code",
   "execution_count": 11,
   "metadata": {},
   "outputs": [
    {
     "name": "stdout",
     "output_type": "stream",
     "text": [
      "9\n"
     ]
    }
   ],
   "source": [
    "print(f\"{5 + 4}\")"
   ]
  },
  {
   "cell_type": "markdown",
   "metadata": {},
   "source": [
    "If you have another green check mark `✓` **AND** the result `9`, you're completely ready to go! 🎉\n",
    "\n",
    "- If the earlier Python code works, but this cell does not, then you're using a Python version that is too old.  Make sure you're running with Python 3.7 or later.\n",
    "\n",
    "- You can check in the **top-right** corner which Python version you're currently using.  You can click on it to change to a different version you have installed.\n"
   ]
  },
  {
   "cell_type": "markdown",
   "metadata": {},
   "source": [
    "<hr style=\"color: #DD3403;\">"
   ]
  },
  {
   "cell_type": "markdown",
   "metadata": {},
   "source": [
    "# Part 2: Our Hello Dataset  (Preview for Next Week)\n",
    "\n",
    "In lecture, you're learning about experimental design and we learned a bit about you during the first lecture!  Next week, you will create questions for the \"Hello Dataset\"."
   ]
  },
  {
   "cell_type": "markdown",
   "metadata": {},
   "source": [
    "## Part 2.1: Form your Lab Group\n",
    "\n",
    "If you have not done so already, **RIGHT NOW** find *(ideally)* two other people to make a group of three people.   *(We find groups of three work the best, but you can be a group of two or four -- no solo groups, and no groups of five!*)\n",
    "\n",
    "**Introduce yourselves! :)**\n",
    "\n",
    "*If setup took you a bit of time and you're finishing this lab outside of lab, you won't get to introduce yourself this week -- but you will next week! :)*"
   ]
  },
  {
   "cell_type": "markdown",
   "metadata": {},
   "source": [
    "## Part 2.2: Discuss Questions to Ask the Class\n",
    "\n",
    "Your lab homework for **next week** will be to fill out a class-wide \"Hello Survey\".  Your group will come up some of the questions that should be on this survey.  You can begin to think about four questions for next week:"
   ]
  },
  {
   "cell_type": "markdown",
   "metadata": {},
   "source": [
    "\n",
    "### Q1: Question with a Binary Response\n",
    "\n",
    "A question with a **binary response** is a question that has only two answers.  For example:\n",
    "- *Do you prefer cats or dogs?*\n",
    "- *Were you born in Illinois?*\n",
    "\n",
    "With your group (you must all decide on a single question together), you will come up with a question that you think will have **exactly 50%/50%** split between the two binary outcomes.  *(The question that gets closest to 50%/50% will get extra credit!)*"
   ]
  },
  {
   "cell_type": "markdown",
   "metadata": {},
   "source": [
    "### Q2: Question with a Numeric Response\n",
    "\n",
    "A question with a **numeric response** requires a number for an answer.  For example:\n",
    "\n",
    "- *What is your height?*\n",
    "- *What day were you born?*\n",
    "\n",
    "With your group (you must all decide on a single question together), you will come up with a question and a prediction on what you think the most frequent answer will be to your question."
   ]
  },
  {
   "cell_type": "markdown",
   "metadata": {},
   "source": [
    "### Q3: Question with a (non-numeric) Textual Response\n",
    "\n",
    "A question with a (non-numeric) **textual response** requires a word or two for an answer.  For example:\n",
    "\n",
    "- *What is your favorite sport to play?*\n",
    "- *What is the location of your favorite trip/vacation?*\n",
    "\n",
    "With your group (you must all decide on a single question together), you will come up with a question where at least two members of your group share the same answer."
   ]
  },
  {
   "cell_type": "markdown",
   "metadata": {},
   "source": [
    "## Part 2.3: Submit Your Questions to the Professors\n",
    "\n",
    "Your lab TAs will be grading your lab notebook for your full responses, but we want to make sure to get the survey with your questions out to everyone ASAP!\n",
    "\n",
    "- Pick one member of your group as the \"question submitter\".\n",
    "- If you're the question submitter, complete this Google Form for your group (requires @illinois.edu login): https://forms.gle/p1HvVZFT1jeSWRKL9\n"
   ]
  },
  {
   "cell_type": "markdown",
   "metadata": {},
   "source": [
    "<hr style=\"color: #DD3403;\">"
   ]
  },
  {
   "cell_type": "markdown",
   "metadata": {},
   "source": [
    "\n",
    "# Part 3: Programming in Python\n",
    "\n",
    "You now know your lab group!  Most labs will contain **some individual work** and **some group work**.  When you're working on the individual work, you **CAN and SHOULD** talk to your lab group to help each other out.\n",
    "\n",
    "A few tips when you get or give help:\n",
    "\n",
    "- Don't type the answer on their keyboard, let them type it!  We're here to learn Data Science together.\n",
    "- Check in on each other often -- see if each other are stuck.\n",
    "\n",
    "Remember, TAs and CAs are here for you as well!  In a few cells, you'll need to know your TA and CAs names so you will have to ask them a question today! :)"
   ]
  },
  {
   "cell_type": "markdown",
   "metadata": {},
   "source": [
    "## Puzzle 3.1:\n",
    "\n",
    "Let's review that first Python code.  Run the following cell (click on it and do **SHIFT + ENTER** or press the `▶` button) to run the code:"
   ]
  },
  {
   "cell_type": "code",
   "execution_count": 1,
   "metadata": {},
   "outputs": [
    {
     "data": {
      "text/plain": [
       "9"
      ]
     },
     "execution_count": 1,
     "metadata": {},
     "output_type": "execute_result"
    }
   ],
   "source": [
    "5 + 4"
   ]
  },
  {
   "cell_type": "markdown",
   "metadata": {},
   "source": [
    "Take a close look at the Python cell after you run.  Notice above that there are two components to a single Python cell:\n",
    "\n",
    "- The **input** area, which shows the Python code you wrote (ex: `5 + 4` above)\n",
    "- The **output** area, which shows the output from the Python (ex: `9` above, the answer)\n",
    "\n",
    "Let's have you try it! :)"
   ]
  },
  {
   "cell_type": "markdown",
   "metadata": {},
   "source": [
    "## Puzzle 3.2:\n",
    "\n",
    "In the next cell, use Python to compute the sum of `3` and `8`.\n",
    "\n",
    "- Remember that you can use **SHIFT + ENTER** to exit and run the cell."
   ]
  },
  {
   "cell_type": "code",
   "execution_count": 2,
   "metadata": {},
   "outputs": [
    {
     "data": {
      "text/plain": [
       "11"
      ]
     },
     "execution_count": 2,
     "metadata": {},
     "output_type": "execute_result"
    }
   ],
   "source": [
    "3+8"
   ]
  },
  {
   "cell_type": "markdown",
   "metadata": {},
   "source": [
    "## Puzzle 3.3:\n",
    "\n",
    "In the next cell, use Python to compute the quotient of the numbers `10` and `5`.\n",
    "- Hint: In Python, the `/` symbol used for division."
   ]
  },
  {
   "cell_type": "code",
   "execution_count": 3,
   "metadata": {},
   "outputs": [
    {
     "data": {
      "text/plain": [
       "2.0"
      ]
     },
     "execution_count": 3,
     "metadata": {},
     "output_type": "execute_result"
    }
   ],
   "source": [
    "10 / 5"
   ]
  },
  {
   "cell_type": "markdown",
   "metadata": {},
   "source": [
    "Notice: The result is `2.5`, a non-whole number!  There are two different types of numbers: \n",
    "- **integers** (whole numbers)\n",
    "- **floating point numbers** (numbers with a decimal).  \n",
    "\n",
    "We will explore these more later!"
   ]
  },
  {
   "cell_type": "markdown",
   "metadata": {},
   "source": [
    "### Additional Operations\n",
    "\n",
    "In addition to addition (`+`), subtraction (`-`), multiplication (`*`), and division (`/`), Python can also raise a number to a power (ex: $2^4$).  The syntax to do this in Python is to use `**`.\n",
    "\n",
    "For example, the Python code for $2^4$ is:"
   ]
  },
  {
   "cell_type": "code",
   "execution_count": 7,
   "metadata": {},
   "outputs": [
    {
     "data": {
      "text/plain": [
       "16"
      ]
     },
     "execution_count": 7,
     "metadata": {},
     "output_type": "execute_result"
    }
   ],
   "source": [
    "2 ** 4"
   ]
  },
  {
   "cell_type": "markdown",
   "metadata": {},
   "source": [
    "## Puzzle 3.4:\n",
    "\n",
    "Compute the value of: $(3 + 5) * 9^2$"
   ]
  },
  {
   "cell_type": "code",
   "execution_count": 10,
   "metadata": {},
   "outputs": [
    {
     "data": {
      "text/plain": [
       "648"
      ]
     },
     "execution_count": 10,
     "metadata": {},
     "output_type": "execute_result"
    }
   ],
   "source": [
    "(3+5)*9**2"
   ]
  },
  {
   "cell_type": "markdown",
   "metadata": {},
   "source": [
    "## Puzzle 3.5:\n",
    "\n",
    "Using simple math, write an expression using at least 2 different operations (`+`, `-`, `/`, `*`, `**`) where the output is equal to `107`"
   ]
  },
  {
   "cell_type": "code",
   "execution_count": 11,
   "metadata": {},
   "outputs": [
    {
     "data": {
      "text/plain": [
       "107"
      ]
     },
     "execution_count": 11,
     "metadata": {},
     "output_type": "execute_result"
    }
   ],
   "source": [
    "10**2+7"
   ]
  },
  {
   "cell_type": "markdown",
   "metadata": {},
   "source": [
    "<hr style=\"color: #DD3403;\">"
   ]
  },
  {
   "cell_type": "markdown",
   "metadata": {},
   "source": [
    "# 4. Print Statements in Python\n",
    "\n",
    "In all of the previous puzzles, the text in the **output** was the result of your Python code.  In a notebook, the notebook will always **automatically print out the  <u>result of the last line</u> of Python code**.\n",
    "\n",
    "Because ONLY the **last line** is automatically printed, what do you expect to happen when the following code is run?\n",
    "\n",
    "*(Make your prediction and run the code.)*"
   ]
  },
  {
   "cell_type": "code",
   "execution_count": 12,
   "metadata": {},
   "outputs": [
    {
     "data": {
      "text/plain": [
       "6"
      ]
     },
     "execution_count": 12,
     "metadata": {},
     "output_type": "execute_result"
    }
   ],
   "source": [
    "10 + 10\n",
    "200 + 200\n",
    "3 + 3"
   ]
  },
  {
   "cell_type": "markdown",
   "metadata": {},
   "source": [
    "## Using the `print` function\n",
    "\n",
    "If you want to print out things that is NOT the result of the last line, Python has a **function** called `print` that will output everything between `(` and `)`.  For example, the same example with `print`:"
   ]
  },
  {
   "cell_type": "code",
   "execution_count": 13,
   "metadata": {},
   "outputs": [
    {
     "name": "stdout",
     "output_type": "stream",
     "text": [
      "20\n",
      "400\n",
      "6\n"
     ]
    }
   ],
   "source": [
    "print( 10 + 10 )\n",
    "print( 200 + 200 )\n",
    "print( 3 + 3 )"
   ]
  },
  {
   "cell_type": "markdown",
   "metadata": {},
   "source": [
    "## Using Strings\n",
    "\n",
    "In Python, we often want to print out more than just numbers.  If you want to print words out, Python **REQUIRES** that **strings** are in quotes.  One of the most simple programs is a program that prints `\"Hello World\"` (notice the quotes)!\n",
    "\n",
    "The following `print` command does exactly that:"
   ]
  },
  {
   "cell_type": "code",
   "execution_count": 14,
   "metadata": {},
   "outputs": [
    {
     "name": "stdout",
     "output_type": "stream",
     "text": [
      "Welcome to DISCOVERY\n"
     ]
    }
   ],
   "source": [
    "print(\"Welcome to DISCOVERY\")"
   ]
  },
  {
   "cell_type": "markdown",
   "metadata": {},
   "source": [
    "Notice that **the quotes do not appear in the output**.  Instead, Python uses the quotes to know that the contents inside of the quotes are a  **string**.\n",
    "\n",
    "If you forget to add the quotes around text that is a string, Python will provide an error message that informs you it does not understand how to run the code you typed:"
   ]
  },
  {
   "cell_type": "code",
   "execution_count": 15,
   "metadata": {},
   "outputs": [
    {
     "ename": "SyntaxError",
     "evalue": "invalid syntax. Perhaps you forgot a comma? (1663013788.py, line 1)",
     "output_type": "error",
     "traceback": [
      "\u001b[0;36m  Input \u001b[0;32mIn [15]\u001b[0;36m\u001b[0m\n\u001b[0;31m    print(Welcome to DISCOVERY)\u001b[0m\n\u001b[0m          ^\u001b[0m\n\u001b[0;31mSyntaxError\u001b[0m\u001b[0;31m:\u001b[0m invalid syntax. Perhaps you forgot a comma?\n"
     ]
    }
   ],
   "source": [
    "print(Welcome to DISCOVERY)"
   ]
  },
  {
   "cell_type": "markdown",
   "metadata": {},
   "source": [
    "Errors are what makes programming difficult and **EVERYONE** makes errors programming.  Errors happen when Python does not understand the code you typed.  Python will do it's best to give you useful information in the error message, but the messages are often generic or confusing."
   ]
  },
  {
   "cell_type": "markdown",
   "metadata": {},
   "source": [
    "## Emojis Are Strings, Too!\n",
    "\n",
    "Anything and everything that is not a number goes into a quotes and we will refer to these as **strings**.  This even includes emojis:"
   ]
  },
  {
   "cell_type": "code",
   "execution_count": 16,
   "metadata": {},
   "outputs": [
    {
     "name": "stdout",
     "output_type": "stream",
     "text": [
      "🎉\n"
     ]
    }
   ],
   "source": [
    "print(\"🎉\")"
   ]
  },
  {
   "cell_type": "markdown",
   "metadata": {},
   "source": [
    "## Puzzle 4.1:\n",
    "\n",
    "Using the `print` function, print the **result** of the following two things on separate lines:\n",
    "- $(4 * 3)^2$\n",
    "- $8 - 3$"
   ]
  },
  {
   "cell_type": "code",
   "execution_count": 19,
   "metadata": {},
   "outputs": [
    {
     "name": "stdout",
     "output_type": "stream",
     "text": [
      "144\n",
      "5\n"
     ]
    }
   ],
   "source": [
    "print((4*3)**2)\n",
    "print(8-3)"
   ]
  },
  {
   "cell_type": "markdown",
   "metadata": {},
   "source": [
    "<hr style=\"color: #DD3403;\">"
   ]
  },
  {
   "cell_type": "markdown",
   "metadata": {},
   "source": [
    "# 5. Names in Python\n",
    "\n",
    "*This section has been adopted from Berkeley's Data8: Lab \\#1 from Spring 2017*\n",
    "\n",
    "In natural language, we have terminology that lets us quickly reference very complicated concepts. We don't say, \"That's a large slow mammal with brown fur and three toes!\" Instead, we just say, \"**SLOTH!**\"\n",
    "\n",
    "Similarly, an effective strategy for writing code is to **define names for data as we compute it**, like a lawyer would define terms for complex ideas at the start of a legal document to simplify the rest of the writing.\n",
    "\n",
    "In Python, we do this with assignment statements. An assignment statement has a name on the left side of an `=` sign and an expression to be evaluated on the right."
   ]
  },
  {
   "cell_type": "code",
   "execution_count": 20,
   "metadata": {},
   "outputs": [],
   "source": [
    "ten = (3 * 2) + 4"
   ]
  },
  {
   "cell_type": "markdown",
   "metadata": {},
   "source": [
    "When you run that cell, Python first evaluates the first line. It computes the value of the expression `(3 * 2) + 4`, which is the number 10. Then it gives that value the name `ten`. At that point, the code in the cell is done running.\n",
    "\n",
    "After you run that cell, the value 10 is bound to the name `ten`:"
   ]
  },
  {
   "cell_type": "code",
   "execution_count": 21,
   "metadata": {},
   "outputs": [
    {
     "data": {
      "text/plain": [
       "10"
      ]
     },
     "execution_count": 21,
     "metadata": {},
     "output_type": "execute_result"
    }
   ],
   "source": [
    "ten"
   ]
  },
  {
   "cell_type": "markdown",
   "metadata": {},
   "source": [
    "The statement `ten = (3 * 2) + 4` is not asserting that ten is already equal to `(3 * 2) + 4`, as we might expect by analogy with math notation. Rather, that line of code changes what `ten` means; it now refers to the value 10, whereas before it meant nothing at all."
   ]
  },
  {
   "cell_type": "markdown",
   "metadata": {},
   "source": [
    "## Puzzle 5.1\n",
    "\n",
    "Try writing code that uses a name (like `eleven`) that hasn't been assigned to anything.\n",
    "* Run the Cell (You should see an **ERROR** -- this is expected)."
   ]
  },
  {
   "cell_type": "code",
   "execution_count": 24,
   "metadata": {},
   "outputs": [
    {
     "ename": "NameError",
     "evalue": "name 'twenty' is not defined",
     "output_type": "error",
     "traceback": [
      "\u001b[0;31m---------------------------------------------------------------------------\u001b[0m",
      "\u001b[0;31mNameError\u001b[0m                                 Traceback (most recent call last)",
      "\u001b[1;32m/Users/scarlett_hjq/Desktop/stat107/jiaqi22/lab_intro/intro-wk1.ipynb Cell 58\u001b[0m in \u001b[0;36m<cell line: 1>\u001b[0;34m()\u001b[0m\n\u001b[0;32m----> <a href='vscode-notebook-cell:/Users/scarlett_hjq/Desktop/stat107/jiaqi22/lab_intro/intro-wk1.ipynb#Y111sZmlsZQ%3D%3D?line=0'>1</a>\u001b[0m twenty\n",
      "\u001b[0;31mNameError\u001b[0m: name 'twenty' is not defined"
     ]
    }
   ],
   "source": [
    "twenty"
   ]
  },
  {
   "cell_type": "markdown",
   "metadata": {},
   "source": [
    "## Puzzle 5.2\n",
    "\n",
    "Now, define the value of the name that gave you an error:"
   ]
  },
  {
   "cell_type": "code",
   "execution_count": 25,
   "metadata": {},
   "outputs": [],
   "source": [
    "twenty=ten*2"
   ]
  },
  {
   "cell_type": "markdown",
   "metadata": {},
   "source": [
    "## Puzzle 5.3\n",
    "\n",
    "Finally, try using that name again:"
   ]
  },
  {
   "cell_type": "code",
   "execution_count": 26,
   "metadata": {},
   "outputs": [
    {
     "data": {
      "text/plain": [
       "20"
      ]
     },
     "execution_count": 26,
     "metadata": {},
     "output_type": "execute_result"
    }
   ],
   "source": [
    "twenty"
   ]
  },
  {
   "cell_type": "markdown",
   "metadata": {},
   "source": [
    "## Common Patterns with Names:\n",
    "\n",
    "A common pattern in Jupyter notebooks is to assign a value to a name and then immediately evaluate the name in the last line in the cell so that the value is displayed as output:"
   ]
  },
  {
   "cell_type": "code",
   "execution_count": 27,
   "metadata": {},
   "outputs": [
    {
     "data": {
      "text/plain": [
       "3.1415929203539825"
      ]
     },
     "execution_count": 27,
     "metadata": {},
     "output_type": "execute_result"
    }
   ],
   "source": [
    "close_to_pi = 355/113\n",
    "close_to_pi"
   ]
  },
  {
   "cell_type": "markdown",
   "metadata": {},
   "source": [
    "Another common pattern is that a series of lines in a single cell will build up a complex computation in stages, naming the intermediate results."
   ]
  },
  {
   "cell_type": "code",
   "execution_count": 28,
   "metadata": {},
   "outputs": [
    {
     "data": {
      "text/plain": [
       "20160"
      ]
     },
     "execution_count": 28,
     "metadata": {},
     "output_type": "execute_result"
    }
   ],
   "source": [
    "paycheck = 840\n",
    "monthly_salary = 2 * paycheck\n",
    "number_of_months_in_a_year = 12\n",
    "yearly_salary = number_of_months_in_a_year * monthly_salary\n",
    "yearly_salary"
   ]
  },
  {
   "cell_type": "markdown",
   "metadata": {},
   "source": [
    "Names in Python can have letters (upper- and lower-case letters are both okay and count as different letters), underscores, and numbers.  There are a few rules:\n",
    "- The first character can't be a number (otherwise a name might look like a number).\n",
    "- Names can't contain spaces, since spaces are used to separate pieces of code from each other.\n",
    "\n",
    "Other than those rules, what you name something doesn't matter to Python.  For example, this cell does the same thing as the above cell to compute a yearly salary, except everything has a different name (and loses all context):"
   ]
  },
  {
   "cell_type": "code",
   "execution_count": 29,
   "metadata": {},
   "outputs": [
    {
     "data": {
      "text/plain": [
       "20160"
      ]
     },
     "execution_count": 29,
     "metadata": {},
     "output_type": "execute_result"
    }
   ],
   "source": [
    "a = 840\n",
    "b = 2 * a\n",
    "c = 12\n",
    "d = c * b\n",
    "d"
   ]
  },
  {
   "cell_type": "markdown",
   "metadata": {},
   "source": [
    "Names are **extremely important** for making your code readable to yourself and others. The cell above is shorter, but it's totally useless without an explanation of what it does."
   ]
  },
  {
   "cell_type": "markdown",
   "metadata": {},
   "source": [
    "## Puzzle 5.4:\n",
    "\n",
    "Assign the name `seconds_in_a_decade` to the number of seconds between midnight January 1, 2010 and midnight January 1, 2020.\n",
    "\n",
    "- You will want to think about how this is computed before you start writing code.  Pencil and paper works great!\n",
    "- Any line of code in Python that begins with an `#` is a comment and is ignored by Python.  We have added some comments to help you out here."
   ]
  },
  {
   "cell_type": "code",
   "execution_count": 6,
   "metadata": {},
   "outputs": [
    {
     "data": {
      "text/plain": [
       "315532800"
      ]
     },
     "execution_count": 6,
     "metadata": {},
     "output_type": "execute_result"
    }
   ],
   "source": [
    "# Change the next line so that it computes the number of\n",
    "# seconds in a decade and assigns that number the name\n",
    "# seconds_in_a_decade.\n",
    "#\n",
    "# (You may want to add other names to help you calculate\n",
    "# this value.)\n",
    "seconds_in_a_minute=60\n",
    "minute_in_a_hour=60\n",
    "hour_in_a_day=24\n",
    "day_in_a_year_=365\n",
    "day_in_a_leap_year=366\n",
    "seconds_in_a_decade = seconds_in_a_minute * minute_in_a_hour * hour_in_a_day * day_in_a_year_ * 8 + seconds_in_a_minute * minute_in_a_hour * hour_in_a_day * day_in_a_leap_year * 2\n",
    "\n",
    "# We've put this line in this cell so that it will print\n",
    "# the value you've given to seconds_in_a_decade when you\n",
    "# run it.  You don't need to change this.\n",
    "seconds_in_a_decade"
   ]
  },
  {
   "cell_type": "markdown",
   "metadata": {},
   "source": [
    "<hr style=\"color: #DD3403;\">"
   ]
  },
  {
   "cell_type": "markdown",
   "metadata": {},
   "source": [
    "## Submit Your Work!\n",
    "\n",
    "You're almost done -- congratulations!\n",
    "\n",
    "You need to do two more things:\n",
    "\n",
    "1.  ⚠️ **Make certain to save your work.** ⚠️ To do this, go to **File => Save All**\n",
    "\n",
    "2.  After you have saved, exit this notebook and follow the webpage instructions to commit this lab to your Git repository!\n",
    "\n",
    "3. Your TA will grade your submission and provide you feedback after the lab is due. :)"
   ]
  }
 ],
 "metadata": {
  "kernelspec": {
   "display_name": "Python 3.10.6 64-bit",
   "language": "python",
   "name": "python3"
  },
  "language_info": {
   "codemirror_mode": {
    "name": "ipython",
    "version": 3
   },
   "file_extension": ".py",
   "mimetype": "text/x-python",
   "name": "python",
   "nbconvert_exporter": "python",
   "pygments_lexer": "ipython3",
   "version": "3.10.6"
  },
  "orig_nbformat": 4,
  "vscode": {
   "interpreter": {
    "hash": "aee8b7b246df8f9039afb4144a1f6fd8d2ca17a180786b69acc140d282b71a49"
   }
  }
 },
 "nbformat": 4,
 "nbformat_minor": 2
}
